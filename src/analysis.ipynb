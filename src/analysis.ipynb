{
  "nbformat": 4,
  "nbformat_minor": 0,
  "metadata": {
    "colab": {
      "name": "analysis.ipynb",
      "provenance": [],
      "collapsed_sections": [],
      "toc_visible": true
    },
    "kernelspec": {
      "name": "python3",
      "display_name": "Python 3"
    }
  },
  "cells": [
    {
      "cell_type": "code",
      "metadata": {
        "id": "D9ncKh09JbSw",
        "colab_type": "code",
        "colab": {}
      },
      "source": [
        "# import a few important libraries\n",
        "import pandas as pd\n",
        "import numpy as np\n",
        "import matplotlib.pyplot as plt\n",
        "import seaborn as sns\n",
        "\n",
        "%matplotlib inline\n",
        "plt.style.use('ggplot')\n",
        "import io"
      ],
      "execution_count": null,
      "outputs": []
    },
    {
      "cell_type": "code",
      "metadata": {
        "id": "NBpYoGQZz24X",
        "colab_type": "code",
        "colab": {
          "base_uri": "https://localhost:8080/",
          "height": 119
        },
        "outputId": "106acaa2-455d-48ad-e211-4fbfd1b36086"
      },
      "source": [
        "!git clone https://github.com/hastagAB/Healthcare-Fraud-Analysis.git"
      ],
      "execution_count": null,
      "outputs": [
        {
          "output_type": "stream",
          "text": [
            "Cloning into 'Healthcare-Fraud-Analysis'...\n",
            "remote: Enumerating objects: 20, done.\u001b[K\n",
            "remote: Counting objects:   5% (1/20)\u001b[K\rremote: Counting objects:  10% (2/20)\u001b[K\rremote: Counting objects:  15% (3/20)\u001b[K\rremote: Counting objects:  20% (4/20)\u001b[K\rremote: Counting objects:  25% (5/20)\u001b[K\rremote: Counting objects:  30% (6/20)\u001b[K\rremote: Counting objects:  35% (7/20)\u001b[K\rremote: Counting objects:  40% (8/20)\u001b[K\rremote: Counting objects:  45% (9/20)\u001b[K\rremote: Counting objects:  50% (10/20)\u001b[K\rremote: Counting objects:  55% (11/20)\u001b[K\rremote: Counting objects:  60% (12/20)\u001b[K\rremote: Counting objects:  65% (13/20)\u001b[K\rremote: Counting objects:  70% (14/20)\u001b[K\rremote: Counting objects:  75% (15/20)\u001b[K\rremote: Counting objects:  80% (16/20)\u001b[K\rremote: Counting objects:  85% (17/20)\u001b[K\rremote: Counting objects:  90% (18/20)\u001b[K\rremote: Counting objects:  95% (19/20)\u001b[K\rremote: Counting objects: 100% (20/20)\u001b[K\rremote: Counting objects: 100% (20/20), done.\u001b[K\n",
            "remote: Compressing objects: 100% (15/15), done.\u001b[K\n",
            "remote: Total 20 (delta 4), reused 15 (delta 3), pack-reused 0\u001b[K\n",
            "Unpacking objects: 100% (20/20), done.\n"
          ],
          "name": "stdout"
        }
      ]
    },
    {
      "cell_type": "code",
      "metadata": {
        "id": "LHmkyP3kJ9Yj",
        "colab_type": "code",
        "colab": {}
      },
      "source": [
        "# Load Dataset\n",
        "Train = pd.read_csv(\"Healthcare-Fraud-Analysis/dataset/Train.csv\")\n",
        "Train_Beneficiary = pd.read_csv(\"Healthcare-Fraud-Analysis/dataset/Train_Beneficiary_Data.csv\")\n",
        "Train_Inpatient = pd.read_csv(\"Healthcare-Fraud-Analysis/dataset/Train_Inpatient_Data.csv\")\n",
        "Train_Outpatient = pd.read_csv(\"Healthcare-Fraud-Analysis/dataset/Train_Outpatient_Data.csv\")"
      ],
      "execution_count": null,
      "outputs": []
    },
    {
      "cell_type": "code",
      "metadata": {
        "id": "Pp2yAD5p3boU",
        "colab_type": "code",
        "colab": {
          "base_uri": "https://localhost:8080/",
          "height": 224
        },
        "outputId": "54522ce2-aa88-43df-93da-bebde1e5ec1a"
      },
      "source": [
        "Train_Outpatient.head()"
      ],
      "execution_count": null,
      "outputs": [
        {
          "output_type": "execute_result",
          "data": {
            "text/html": [
              "<div>\n",
              "<style scoped>\n",
              "    .dataframe tbody tr th:only-of-type {\n",
              "        vertical-align: middle;\n",
              "    }\n",
              "\n",
              "    .dataframe tbody tr th {\n",
              "        vertical-align: top;\n",
              "    }\n",
              "\n",
              "    .dataframe thead th {\n",
              "        text-align: right;\n",
              "    }\n",
              "</style>\n",
              "<table border=\"1\" class=\"dataframe\">\n",
              "  <thead>\n",
              "    <tr style=\"text-align: right;\">\n",
              "      <th></th>\n",
              "      <th>BeneID</th>\n",
              "      <th>ClaimID</th>\n",
              "      <th>ClaimStartDt</th>\n",
              "      <th>ClaimEndDt</th>\n",
              "      <th>Provider</th>\n",
              "      <th>InscClaimAmtReimbursed</th>\n",
              "      <th>AttendingPhysician</th>\n",
              "      <th>OperatingPhysician</th>\n",
              "      <th>OtherPhysician</th>\n",
              "      <th>ClmDiagnosisCode_1</th>\n",
              "      <th>ClmDiagnosisCode_2</th>\n",
              "      <th>ClmDiagnosisCode_3</th>\n",
              "      <th>ClmDiagnosisCode_4</th>\n",
              "      <th>ClmDiagnosisCode_5</th>\n",
              "      <th>ClmDiagnosisCode_6</th>\n",
              "      <th>ClmDiagnosisCode_7</th>\n",
              "      <th>ClmDiagnosisCode_8</th>\n",
              "      <th>ClmDiagnosisCode_9</th>\n",
              "      <th>ClmDiagnosisCode_10</th>\n",
              "      <th>ClmProcedureCode_1</th>\n",
              "      <th>ClmProcedureCode_2</th>\n",
              "      <th>ClmProcedureCode_3</th>\n",
              "      <th>ClmProcedureCode_4</th>\n",
              "      <th>ClmProcedureCode_5</th>\n",
              "      <th>ClmProcedureCode_6</th>\n",
              "      <th>DeductibleAmtPaid</th>\n",
              "      <th>ClmAdmitDiagnosisCode</th>\n",
              "    </tr>\n",
              "  </thead>\n",
              "  <tbody>\n",
              "    <tr>\n",
              "      <th>0</th>\n",
              "      <td>BENE11002</td>\n",
              "      <td>CLM624349</td>\n",
              "      <td>2009-10-11</td>\n",
              "      <td>2009-10-11</td>\n",
              "      <td>PRV56011</td>\n",
              "      <td>30</td>\n",
              "      <td>PHY326117</td>\n",
              "      <td>NaN</td>\n",
              "      <td>NaN</td>\n",
              "      <td>78943</td>\n",
              "      <td>V5866</td>\n",
              "      <td>V1272</td>\n",
              "      <td>NaN</td>\n",
              "      <td>NaN</td>\n",
              "      <td>NaN</td>\n",
              "      <td>NaN</td>\n",
              "      <td>NaN</td>\n",
              "      <td>NaN</td>\n",
              "      <td>NaN</td>\n",
              "      <td>NaN</td>\n",
              "      <td>NaN</td>\n",
              "      <td>NaN</td>\n",
              "      <td>NaN</td>\n",
              "      <td>NaN</td>\n",
              "      <td>NaN</td>\n",
              "      <td>0</td>\n",
              "      <td>56409</td>\n",
              "    </tr>\n",
              "    <tr>\n",
              "      <th>1</th>\n",
              "      <td>BENE11003</td>\n",
              "      <td>CLM189947</td>\n",
              "      <td>2009-02-12</td>\n",
              "      <td>2009-02-12</td>\n",
              "      <td>PRV57610</td>\n",
              "      <td>80</td>\n",
              "      <td>PHY362868</td>\n",
              "      <td>NaN</td>\n",
              "      <td>NaN</td>\n",
              "      <td>6115</td>\n",
              "      <td>NaN</td>\n",
              "      <td>NaN</td>\n",
              "      <td>NaN</td>\n",
              "      <td>NaN</td>\n",
              "      <td>NaN</td>\n",
              "      <td>NaN</td>\n",
              "      <td>NaN</td>\n",
              "      <td>NaN</td>\n",
              "      <td>NaN</td>\n",
              "      <td>NaN</td>\n",
              "      <td>NaN</td>\n",
              "      <td>NaN</td>\n",
              "      <td>NaN</td>\n",
              "      <td>NaN</td>\n",
              "      <td>NaN</td>\n",
              "      <td>0</td>\n",
              "      <td>79380</td>\n",
              "    </tr>\n",
              "    <tr>\n",
              "      <th>2</th>\n",
              "      <td>BENE11003</td>\n",
              "      <td>CLM438021</td>\n",
              "      <td>2009-06-27</td>\n",
              "      <td>2009-06-27</td>\n",
              "      <td>PRV57595</td>\n",
              "      <td>10</td>\n",
              "      <td>PHY328821</td>\n",
              "      <td>NaN</td>\n",
              "      <td>NaN</td>\n",
              "      <td>2723</td>\n",
              "      <td>NaN</td>\n",
              "      <td>NaN</td>\n",
              "      <td>NaN</td>\n",
              "      <td>NaN</td>\n",
              "      <td>NaN</td>\n",
              "      <td>NaN</td>\n",
              "      <td>NaN</td>\n",
              "      <td>NaN</td>\n",
              "      <td>NaN</td>\n",
              "      <td>NaN</td>\n",
              "      <td>NaN</td>\n",
              "      <td>NaN</td>\n",
              "      <td>NaN</td>\n",
              "      <td>NaN</td>\n",
              "      <td>NaN</td>\n",
              "      <td>0</td>\n",
              "      <td>NaN</td>\n",
              "    </tr>\n",
              "    <tr>\n",
              "      <th>3</th>\n",
              "      <td>BENE11004</td>\n",
              "      <td>CLM121801</td>\n",
              "      <td>2009-01-06</td>\n",
              "      <td>2009-01-06</td>\n",
              "      <td>PRV56011</td>\n",
              "      <td>40</td>\n",
              "      <td>PHY334319</td>\n",
              "      <td>NaN</td>\n",
              "      <td>NaN</td>\n",
              "      <td>71988</td>\n",
              "      <td>NaN</td>\n",
              "      <td>NaN</td>\n",
              "      <td>NaN</td>\n",
              "      <td>NaN</td>\n",
              "      <td>NaN</td>\n",
              "      <td>NaN</td>\n",
              "      <td>NaN</td>\n",
              "      <td>NaN</td>\n",
              "      <td>NaN</td>\n",
              "      <td>NaN</td>\n",
              "      <td>NaN</td>\n",
              "      <td>NaN</td>\n",
              "      <td>NaN</td>\n",
              "      <td>NaN</td>\n",
              "      <td>NaN</td>\n",
              "      <td>0</td>\n",
              "      <td>NaN</td>\n",
              "    </tr>\n",
              "    <tr>\n",
              "      <th>4</th>\n",
              "      <td>BENE11004</td>\n",
              "      <td>CLM150998</td>\n",
              "      <td>2009-01-22</td>\n",
              "      <td>2009-01-22</td>\n",
              "      <td>PRV56011</td>\n",
              "      <td>200</td>\n",
              "      <td>PHY403831</td>\n",
              "      <td>NaN</td>\n",
              "      <td>NaN</td>\n",
              "      <td>82382</td>\n",
              "      <td>30000</td>\n",
              "      <td>72887</td>\n",
              "      <td>4280</td>\n",
              "      <td>7197</td>\n",
              "      <td>V4577</td>\n",
              "      <td>NaN</td>\n",
              "      <td>NaN</td>\n",
              "      <td>NaN</td>\n",
              "      <td>NaN</td>\n",
              "      <td>NaN</td>\n",
              "      <td>NaN</td>\n",
              "      <td>NaN</td>\n",
              "      <td>NaN</td>\n",
              "      <td>NaN</td>\n",
              "      <td>NaN</td>\n",
              "      <td>0</td>\n",
              "      <td>71947</td>\n",
              "    </tr>\n",
              "  </tbody>\n",
              "</table>\n",
              "</div>"
            ],
            "text/plain": [
              "      BeneID    ClaimID  ... DeductibleAmtPaid ClmAdmitDiagnosisCode\n",
              "0  BENE11002  CLM624349  ...                 0                 56409\n",
              "1  BENE11003  CLM189947  ...                 0                 79380\n",
              "2  BENE11003  CLM438021  ...                 0                   NaN\n",
              "3  BENE11004  CLM121801  ...                 0                   NaN\n",
              "4  BENE11004  CLM150998  ...                 0                 71947\n",
              "\n",
              "[5 rows x 27 columns]"
            ]
          },
          "metadata": {
            "tags": []
          },
          "execution_count": 4
        }
      ]
    },
    {
      "cell_type": "markdown",
      "metadata": {
        "id": "RpjPkvNPBdSj",
        "colab_type": "text"
      },
      "source": [
        "## Distribute how many providers are fraudulent & non-fraudulent"
      ]
    },
    {
      "cell_type": "code",
      "metadata": {
        "id": "fonzTLtqUALs",
        "colab_type": "code",
        "colab": {
          "base_uri": "https://localhost:8080/",
          "height": 414
        },
        "outputId": "024805f2-fb08-4884-cee0-24326950d05a"
      },
      "source": [
        "plt.title(\"Potential Fraud Test distribution\")\n",
        "Train.groupby( [\"PotentialFraud\"] ).Provider.count().plot(kind = \"bar\", figsize = (10,6))\n",
        "plt.xlabel('Status')\n",
        "plt.ylabel('Count')\n",
        "plt.show()"
      ],
      "execution_count": null,
      "outputs": [
        {
          "output_type": "display_data",
          "data": {
            "image/png": "[encoded data removed]",
            "text/plain": [
              "<Figure size 720x432 with 1 Axes>"
            ]
          },
          "metadata": {
            "tags": []
          }
        }
      ]
    },
    {
      "cell_type": "markdown",
      "metadata": {
        "id": "4hiP3Szil6UV",
        "colab_type": "text"
      },
      "source": [
        "# INPATIENT (The patients that are admitted to the hospital)\n",
        "\n",
        "# Inpatient Procedure Distribution\n",
        "\n",
        "Let's try to find out some of the most common procedure that the impatients opt for"
      ]
    },
    {
      "cell_type": "code",
      "metadata": {
        "id": "mxN5RNNP-xKy",
        "colab_type": "code",
        "colab": {}
      },
      "source": [
        "procedures =  pd.DataFrame(columns = ['Procedures'])\n",
        "procedures['Procedures'] = pd.concat([\n",
        "                                          Train_Inpatient[\"ClmProcedureCode_1\"], \n",
        "                                          Train_Inpatient[\"ClmProcedureCode_2\"], \n",
        "                                          Train_Inpatient[\"ClmProcedureCode_3\"], \n",
        "                                          Train_Inpatient[\"ClmProcedureCode_4\"], \n",
        "                                          Train_Inpatient[\"ClmProcedureCode_5\"], \n",
        "                                          Train_Inpatient[\"ClmProcedureCode_6\"]\n",
        "                                          ], axis=0, sort=True).dropna()\n",
        "                            \n",
        "procedures.head(10)\n",
        "procedure_group = procedures['Procedures'].value_counts()\n",
        "\n",
        "procedure_g1 = procedure_group.to_frame()\n",
        "procedure_g1.columns = ['count']\n",
        "procedure_g1['Procedure'] = procedure_g1.index\n",
        "procedure_g1['Percentage'] = (procedure_g1['count']/sum(procedure_g1['count']))*100"
      ],
      "execution_count": null,
      "outputs": []
    },
    {
      "cell_type": "code",
      "metadata": {
        "id": "56qvruAGbINH",
        "colab_type": "code",
        "colab": {
          "base_uri": "https://localhost:8080/",
          "height": 204
        },
        "outputId": "3818eabc-9710-4f99-9326-10dd23224ee0"
      },
      "source": [
        "procedure_g1.head(5)"
      ],
      "execution_count": null,
      "outputs": [
        {
          "output_type": "execute_result",
          "data": {
            "text/html": [
              "<div>\n",
              "<style scoped>\n",
              "    .dataframe tbody tr th:only-of-type {\n",
              "        vertical-align: middle;\n",
              "    }\n",
              "\n",
              "    .dataframe tbody tr th {\n",
              "        vertical-align: top;\n",
              "    }\n",
              "\n",
              "    .dataframe thead th {\n",
              "        text-align: right;\n",
              "    }\n",
              "</style>\n",
              "<table border=\"1\" class=\"dataframe\">\n",
              "  <thead>\n",
              "    <tr style=\"text-align: right;\">\n",
              "      <th></th>\n",
              "      <th>count</th>\n",
              "      <th>Procedure</th>\n",
              "      <th>Percentage</th>\n",
              "    </tr>\n",
              "  </thead>\n",
              "  <tbody>\n",
              "    <tr>\n",
              "      <th>4019.0</th>\n",
              "      <td>1953</td>\n",
              "      <td>4019.0</td>\n",
              "      <td>6.577529</td>\n",
              "    </tr>\n",
              "    <tr>\n",
              "      <th>9904.0</th>\n",
              "      <td>1137</td>\n",
              "      <td>9904.0</td>\n",
              "      <td>3.829314</td>\n",
              "    </tr>\n",
              "    <tr>\n",
              "      <th>2724.0</th>\n",
              "      <td>1047</td>\n",
              "      <td>2724.0</td>\n",
              "      <td>3.526202</td>\n",
              "    </tr>\n",
              "    <tr>\n",
              "      <th>8154.0</th>\n",
              "      <td>1021</td>\n",
              "      <td>8154.0</td>\n",
              "      <td>3.438637</td>\n",
              "    </tr>\n",
              "    <tr>\n",
              "      <th>66.0</th>\n",
              "      <td>894</td>\n",
              "      <td>66.0</td>\n",
              "      <td>3.010912</td>\n",
              "    </tr>\n",
              "  </tbody>\n",
              "</table>\n",
              "</div>"
            ],
            "text/plain": [
              "        count  Procedure  Percentage\n",
              "4019.0   1953     4019.0    6.577529\n",
              "9904.0   1137     9904.0    3.829314\n",
              "2724.0   1047     2724.0    3.526202\n",
              "8154.0   1021     8154.0    3.438637\n",
              "66.0      894       66.0    3.010912"
            ]
          },
          "metadata": {
            "tags": []
          },
          "execution_count": 73
        }
      ]
    },
    {
      "cell_type": "code",
      "metadata": {
        "id": "Jusocs1bajHk",
        "colab_type": "code",
        "colab": {
          "base_uri": "https://localhost:8080/",
          "height": 707
        },
        "outputId": "35a5a706-ae15-4f16-9d6c-59ff19c918ff"
      },
      "source": [
        "plot_procedure = procedure_g1.head(30)\n",
        "\n",
        "fig = plt.figure(figsize=(25,10))\n",
        "ax = fig.add_axes([0,0,1,1])\n",
        "\n",
        "plot_procedure['Procedure'] = 'P' + plot_procedure['Procedure'].astype(str)\n",
        "plot_procedure.sort_values(by=['Percentage'])\n",
        "ax.bar(plot_procedure['Procedure'],plot_procedure['Percentage'], color='green')\n",
        "plt.show()"
      ],
      "execution_count": null,
      "outputs": [
        {
          "output_type": "stream",
          "text": [
            "/usr/local/lib/python3.6/dist-packages/ipykernel_launcher.py:6: SettingWithCopyWarning: \n",
            "A value is trying to be set on a copy of a slice from a DataFrame.\n",
            "Try using .loc[row_indexer,col_indexer] = value instead\n",
            "\n",
            "See the caveats in the documentation: https://pandas.pydata.org/pandas-docs/stable/user_guide/indexing.html#returning-a-view-versus-a-copy\n",
            "  \n"
          ],
          "name": "stderr"
        },
        {
          "output_type": "display_data",
          "data": {
            "image/png": "[encoded data removed]",
            "text/plain": [
              "<Figure size 1800x720 with 1 Axes>"
            ]
          },
          "metadata": {
            "tags": []
          }
        }
      ]
    },
    {
      "cell_type": "markdown",
      "metadata": {
        "id": "LuDFz1ZXydiK",
        "colab_type": "text"
      },
      "source": [
        "We see that for inpatinet the most common procedure used is 4019, 9904, 2724 among others."
      ]
    },
    {
      "cell_type": "markdown",
      "metadata": {
        "id": "oLCUADktl_iB",
        "colab_type": "text"
      },
      "source": [
        "# Inpatient Diagnosis Distribution\n",
        "\n",
        "Let's do the same for diagnosis and try to find which of them are the most common ones."
      ]
    },
    {
      "cell_type": "code",
      "metadata": {
        "id": "sTrpODIwmIAU",
        "colab_type": "code",
        "colab": {}
      },
      "source": [
        "diagnosis =  pd.DataFrame(columns = ['diagnosis'])\n",
        "diagnosis['diagnosis'] = pd.concat([\n",
        "                                          Train_Inpatient[\"ClmDiagnosisCode_1\"], \n",
        "                                          Train_Inpatient[\"ClmDiagnosisCode_2\"], \n",
        "                                          Train_Inpatient[\"ClmDiagnosisCode_3\"], \n",
        "                                          Train_Inpatient[\"ClmDiagnosisCode_4\"],\n",
        "                                          Train_Inpatient[\"ClmDiagnosisCode_5\"],\n",
        "                                          Train_Inpatient[\"ClmDiagnosisCode_6\"],\n",
        "                                          Train_Inpatient[\"ClmDiagnosisCode_7\"],\n",
        "                                          Train_Inpatient[\"ClmDiagnosisCode_8\"], \n",
        "                                          Train_Inpatient[\"ClmDiagnosisCode_9\"], \n",
        "                                          Train_Inpatient[\"ClmDiagnosisCode_10\"]\n",
        "                                          ], axis=0, sort=True).dropna()\n",
        "                            \n",
        "diagnosis_group = diagnosis['diagnosis'].value_counts()\n",
        "\n",
        "diagnosis_g1 = diagnosis_group.to_frame()\n",
        "diagnosis_g1.columns = ['count']\n",
        "diagnosis_g1['diagnosis'] = diagnosis_g1.index\n",
        "diagnosis_g1['Percentage'] = (diagnosis_g1['count']/sum(diagnosis_g1['count']))*100"
      ],
      "execution_count": null,
      "outputs": []
    },
    {
      "cell_type": "code",
      "metadata": {
        "id": "CMNSTfl0nyv2",
        "colab_type": "code",
        "colab": {
          "base_uri": "https://localhost:8080/",
          "height": 204
        },
        "outputId": "a42f9721-62bf-4628-80fd-285cd660f553"
      },
      "source": [
        "diagnosis_g1.head()"
      ],
      "execution_count": null,
      "outputs": [
        {
          "output_type": "execute_result",
          "data": {
            "text/html": [
              "<div>\n",
              "<style scoped>\n",
              "    .dataframe tbody tr th:only-of-type {\n",
              "        vertical-align: middle;\n",
              "    }\n",
              "\n",
              "    .dataframe tbody tr th {\n",
              "        vertical-align: top;\n",
              "    }\n",
              "\n",
              "    .dataframe thead th {\n",
              "        text-align: right;\n",
              "    }\n",
              "</style>\n",
              "<table border=\"1\" class=\"dataframe\">\n",
              "  <thead>\n",
              "    <tr style=\"text-align: right;\">\n",
              "      <th></th>\n",
              "      <th>count</th>\n",
              "      <th>diagnosis</th>\n",
              "      <th>Percentage</th>\n",
              "    </tr>\n",
              "  </thead>\n",
              "  <tbody>\n",
              "    <tr>\n",
              "      <th>4019</th>\n",
              "      <td>14153</td>\n",
              "      <td>4019</td>\n",
              "      <td>4.323798</td>\n",
              "    </tr>\n",
              "    <tr>\n",
              "      <th>2724</th>\n",
              "      <td>7340</td>\n",
              "      <td>2724</td>\n",
              "      <td>2.242399</td>\n",
              "    </tr>\n",
              "    <tr>\n",
              "      <th>25000</th>\n",
              "      <td>7334</td>\n",
              "      <td>25000</td>\n",
              "      <td>2.240566</td>\n",
              "    </tr>\n",
              "    <tr>\n",
              "      <th>41401</th>\n",
              "      <td>6442</td>\n",
              "      <td>41401</td>\n",
              "      <td>1.968057</td>\n",
              "    </tr>\n",
              "    <tr>\n",
              "      <th>4280</th>\n",
              "      <td>6190</td>\n",
              "      <td>4280</td>\n",
              "      <td>1.891070</td>\n",
              "    </tr>\n",
              "  </tbody>\n",
              "</table>\n",
              "</div>"
            ],
            "text/plain": [
              "       count diagnosis  Percentage\n",
              "4019   14153      4019    4.323798\n",
              "2724    7340      2724    2.242399\n",
              "25000   7334     25000    2.240566\n",
              "41401   6442     41401    1.968057\n",
              "4280    6190      4280    1.891070"
            ]
          },
          "metadata": {
            "tags": []
          },
          "execution_count": 75
        }
      ]
    },
    {
      "cell_type": "code",
      "metadata": {
        "id": "mdFP7HG7n2Gk",
        "colab_type": "code",
        "colab": {
          "base_uri": "https://localhost:8080/",
          "height": 707
        },
        "outputId": "df4910d4-b0b1-49e4-e8f7-5c3862a4e3db"
      },
      "source": [
        "plot_diagnosis = diagnosis_g1.head(30)\n",
        "\n",
        "fig = plt.figure(figsize=(25,10))\n",
        "ax = fig.add_axes([0,0,1,1])\n",
        "\n",
        "plot_diagnosis['diagnosis'] = 'D' + plot_diagnosis['diagnosis'].astype(str)\n",
        "plot_diagnosis.sort_values(by=['Percentage'])\n",
        "ax.bar(plot_diagnosis['diagnosis'],plot_diagnosis['Percentage'], color='grey')\n",
        "plt.show()"
      ],
      "execution_count": null,
      "outputs": [
        {
          "output_type": "stream",
          "text": [
            "/usr/local/lib/python3.6/dist-packages/ipykernel_launcher.py:6: SettingWithCopyWarning: \n",
            "A value is trying to be set on a copy of a slice from a DataFrame.\n",
            "Try using .loc[row_indexer,col_indexer] = value instead\n",
            "\n",
            "See the caveats in the documentation: https://pandas.pydata.org/pandas-docs/stable/user_guide/indexing.html#returning-a-view-versus-a-copy\n",
            "  \n"
          ],
          "name": "stderr"
        },
        {
          "output_type": "display_data",
          "data": {
            "image/png": "[encoded data removed]",
            "text/plain": [
              "<Figure size 1800x720 with 1 Axes>"
            ]
          },
          "metadata": {
            "tags": []
          }
        }
      ]
    },
    {
      "cell_type": "markdown",
      "metadata": {
        "id": "zmIrLmsDyuQ4",
        "colab_type": "text"
      },
      "source": [
        "We see that for inpatinet the most common Diagnosis used is 4019, 2724,25000 among others."
      ]
    },
    {
      "cell_type": "markdown",
      "metadata": {
        "id": "NPsuUCc0AuSJ",
        "colab_type": "text"
      },
      "source": [
        "# OUTPATIENT (The patients who visits the hospital for treatment but are not admitted)\n",
        "\n",
        "# Outpatient Procedure Distribution\n",
        "\n",
        "Find out the common procedure for outpatients."
      ]
    },
    {
      "cell_type": "code",
      "metadata": {
        "id": "2kTaQdLwA_pI",
        "colab_type": "code",
        "colab": {}
      },
      "source": [
        "procedures1 =  pd.DataFrame(columns = ['Procedures'])\n",
        "procedures1['Procedures'] = pd.concat([\n",
        "                                          Train_Outpatient[\"ClmProcedureCode_1\"], \n",
        "                                          Train_Outpatient[\"ClmProcedureCode_2\"], \n",
        "                                          Train_Outpatient[\"ClmProcedureCode_3\"], \n",
        "                                          Train_Outpatient[\"ClmProcedureCode_4\"], \n",
        "                                          Train_Outpatient[\"ClmProcedureCode_5\"], \n",
        "                                          Train_Outpatient[\"ClmProcedureCode_6\"]\n",
        "                                          ], axis=0, sort=True).dropna()\n",
        "                            \n",
        "procedures1.head(10)\n",
        "procedure1_group = procedures1['Procedures'].value_counts()\n",
        "\n",
        "procedure_g2 = procedure1_group.to_frame()\n",
        "procedure_g2.columns = ['count']\n",
        "procedure_g2['Procedure'] = procedure_g2.index\n",
        "procedure_g2['Percentage'] = (procedure_g2['count']/sum(procedure_g2['count']))*100"
      ],
      "execution_count": null,
      "outputs": []
    },
    {
      "cell_type": "code",
      "metadata": {
        "id": "7ZFNlDz2B8vn",
        "colab_type": "code",
        "colab": {
          "base_uri": "https://localhost:8080/",
          "height": 204
        },
        "outputId": "ac980cea-1aa9-47c6-a5c5-6e6befe137d2"
      },
      "source": [
        "procedure_g2.head()"
      ],
      "execution_count": null,
      "outputs": [
        {
          "output_type": "execute_result",
          "data": {
            "text/html": [
              "<div>\n",
              "<style scoped>\n",
              "    .dataframe tbody tr th:only-of-type {\n",
              "        vertical-align: middle;\n",
              "    }\n",
              "\n",
              "    .dataframe tbody tr th {\n",
              "        vertical-align: top;\n",
              "    }\n",
              "\n",
              "    .dataframe thead th {\n",
              "        text-align: right;\n",
              "    }\n",
              "</style>\n",
              "<table border=\"1\" class=\"dataframe\">\n",
              "  <thead>\n",
              "    <tr style=\"text-align: right;\">\n",
              "      <th></th>\n",
              "      <th>count</th>\n",
              "      <th>Procedure</th>\n",
              "      <th>Percentage</th>\n",
              "    </tr>\n",
              "  </thead>\n",
              "  <tbody>\n",
              "    <tr>\n",
              "      <th>9904.0</th>\n",
              "      <td>15</td>\n",
              "      <td>9904.0</td>\n",
              "      <td>7.352941</td>\n",
              "    </tr>\n",
              "    <tr>\n",
              "      <th>3722.0</th>\n",
              "      <td>8</td>\n",
              "      <td>3722.0</td>\n",
              "      <td>3.921569</td>\n",
              "    </tr>\n",
              "    <tr>\n",
              "      <th>4516.0</th>\n",
              "      <td>8</td>\n",
              "      <td>4516.0</td>\n",
              "      <td>3.921569</td>\n",
              "    </tr>\n",
              "    <tr>\n",
              "      <th>2724.0</th>\n",
              "      <td>7</td>\n",
              "      <td>2724.0</td>\n",
              "      <td>3.431373</td>\n",
              "    </tr>\n",
              "    <tr>\n",
              "      <th>66.0</th>\n",
              "      <td>7</td>\n",
              "      <td>66.0</td>\n",
              "      <td>3.431373</td>\n",
              "    </tr>\n",
              "  </tbody>\n",
              "</table>\n",
              "</div>"
            ],
            "text/plain": [
              "        count  Procedure  Percentage\n",
              "9904.0     15     9904.0    7.352941\n",
              "3722.0      8     3722.0    3.921569\n",
              "4516.0      8     4516.0    3.921569\n",
              "2724.0      7     2724.0    3.431373\n",
              "66.0        7       66.0    3.431373"
            ]
          },
          "metadata": {
            "tags": []
          },
          "execution_count": 7
        }
      ]
    },
    {
      "cell_type": "code",
      "metadata": {
        "id": "jq-6P-RPCRQQ",
        "colab_type": "code",
        "colab": {
          "base_uri": "https://localhost:8080/",
          "height": 707
        },
        "outputId": "c66b7c4f-4251-413d-b590-8264eebec8b9"
      },
      "source": [
        "plot_procedure1 = procedure_g2.head(30)\n",
        "\n",
        "fig = plt.figure(figsize=(25,10))\n",
        "ax = fig.add_axes([0,0,1,1])\n",
        "\n",
        "plot_procedure1['Procedure'] = 'P' + plot_procedure1['Procedure'].astype(str)\n",
        "plot_procedure1.sort_values(by=['Percentage'])\n",
        "ax.bar(plot_procedure1['Procedure'],plot_procedure1['Percentage'], color='red')\n",
        "plt.show()"
      ],
      "execution_count": null,
      "outputs": [
        {
          "output_type": "stream",
          "text": [
            "/usr/local/lib/python3.6/dist-packages/ipykernel_launcher.py:6: SettingWithCopyWarning: \n",
            "A value is trying to be set on a copy of a slice from a DataFrame.\n",
            "Try using .loc[row_indexer,col_indexer] = value instead\n",
            "\n",
            "See the caveats in the documentation: https://pandas.pydata.org/pandas-docs/stable/user_guide/indexing.html#returning-a-view-versus-a-copy\n",
            "  \n"
          ],
          "name": "stderr"
        },
        {
          "output_type": "display_data",
          "data": {
            "image/png": "[encoded data removed]",
            "text/plain": [
              "<Figure size 1800x720 with 1 Axes>"
            ]
          },
          "metadata": {
            "tags": []
          }
        }
      ]
    },
    {
      "cell_type": "markdown",
      "metadata": {
        "id": "mJhVFScyzLFG",
        "colab_type": "text"
      },
      "source": [
        "We can see that in the case of outpatients there is a little bit of difference in the common procedures.\n",
        "\n",
        "We see that for the outpatinet the most common procedure used is 9904, 3722, 4516 among others."
      ]
    },
    {
      "cell_type": "markdown",
      "metadata": {
        "id": "Sk5wDeD5CtY7",
        "colab_type": "text"
      },
      "source": [
        "# Outpatient Diagnosis Distribution"
      ]
    },
    {
      "cell_type": "code",
      "metadata": {
        "id": "pwSeqK-bCxo5",
        "colab_type": "code",
        "colab": {}
      },
      "source": [
        "diagnosis1 =  pd.DataFrame(columns = ['diagnosis'])\n",
        "diagnosis1['diagnosis'] = pd.concat([\n",
        "                                          Train_Outpatient[\"ClmDiagnosisCode_1\"], \n",
        "                                          Train_Outpatient[\"ClmDiagnosisCode_2\"], \n",
        "                                          Train_Outpatient[\"ClmDiagnosisCode_3\"], \n",
        "                                          Train_Outpatient[\"ClmDiagnosisCode_4\"],\n",
        "                                          Train_Outpatient[\"ClmDiagnosisCode_5\"],\n",
        "                                          Train_Outpatient[\"ClmDiagnosisCode_6\"],\n",
        "                                          Train_Outpatient[\"ClmDiagnosisCode_7\"],\n",
        "                                          Train_Outpatient[\"ClmDiagnosisCode_8\"], \n",
        "                                          Train_Outpatient[\"ClmDiagnosisCode_9\"], \n",
        "                                          Train_Outpatient[\"ClmDiagnosisCode_10\"]\n",
        "                                          ], axis=0, sort=True).dropna()\n",
        "                            \n",
        "diagnosis_group1 = diagnosis1['diagnosis'].value_counts()\n",
        "\n",
        "diagnosis_g2 = diagnosis_group1.to_frame()\n",
        "diagnosis_g2.columns = ['count']\n",
        "diagnosis_g2['diagnosis'] = diagnosis_g2.index\n",
        "diagnosis_g2['Percentage'] = (diagnosis_g2['count']/sum(diagnosis_g2['count']))*100"
      ],
      "execution_count": null,
      "outputs": []
    },
    {
      "cell_type": "code",
      "metadata": {
        "id": "MnbK1U2zDUMq",
        "colab_type": "code",
        "colab": {
          "base_uri": "https://localhost:8080/",
          "height": 707
        },
        "outputId": "0131c549-b0e8-4185-b96b-6742617ac85f"
      },
      "source": [
        "plot_diagnosis1 = diagnosis_g2.head(30)\n",
        "\n",
        "fig = plt.figure(figsize=(25,10),)\n",
        "ax = fig.add_axes([0,0,1,1])\n",
        "\n",
        "plot_diagnosis1['diagnosis'] = 'D' + plot_diagnosis1['diagnosis'].astype(str)\n",
        "plot_diagnosis1.sort_values(by=['Percentage'])\n",
        "ax.bar(plot_diagnosis1['diagnosis'],plot_diagnosis1['Percentage'], color='blue')\n",
        "plt.show()"
      ],
      "execution_count": null,
      "outputs": [
        {
          "output_type": "stream",
          "text": [
            "/usr/local/lib/python3.6/dist-packages/ipykernel_launcher.py:6: SettingWithCopyWarning: \n",
            "A value is trying to be set on a copy of a slice from a DataFrame.\n",
            "Try using .loc[row_indexer,col_indexer] = value instead\n",
            "\n",
            "See the caveats in the documentation: https://pandas.pydata.org/pandas-docs/stable/user_guide/indexing.html#returning-a-view-versus-a-copy\n",
            "  \n"
          ],
          "name": "stderr"
        },
        {
          "output_type": "display_data",
          "data": {
            "image/png": "[encoded data removed]",
            "text/plain": [
              "<Figure size 1800x720 with 1 Axes>"
            ]
          },
          "metadata": {
            "tags": []
          }
        }
      ]
    },
    {
      "cell_type": "markdown",
      "metadata": {
        "id": "zHRfnOXjzkSm",
        "colab_type": "text"
      },
      "source": [
        "For diagnosis, the most common ones are 4019, 25000, 2724 among others"
      ]
    },
    {
      "cell_type": "markdown",
      "metadata": {
        "id": "dRt8_wtpoDNx",
        "colab_type": "text"
      },
      "source": [
        "# Now, let's find out what are the common procedures and diagnosis codes performed by the potential fradulent providers"
      ]
    },
    {
      "cell_type": "code",
      "metadata": {
        "id": "3yFyAb0Hn76F",
        "colab_type": "code",
        "colab": {
          "base_uri": "https://localhost:8080/",
          "height": 34
        },
        "outputId": "0692c8d8-6d0c-4dfa-d489-91ea559471fd"
      },
      "source": [
        "len(Train_Inpatient)"
      ],
      "execution_count": null,
      "outputs": [
        {
          "output_type": "execute_result",
          "data": {
            "text/plain": [
              "40474"
            ]
          },
          "metadata": {
            "tags": []
          },
          "execution_count": 13
        }
      ]
    },
    {
      "cell_type": "code",
      "metadata": {
        "id": "HMjjYyyVokWC",
        "colab_type": "code",
        "colab": {
          "base_uri": "https://localhost:8080/",
          "height": 34
        },
        "outputId": "a5330694-be1e-4d3a-8169-015e84253e06"
      },
      "source": [
        "Train_fraud =  pd.DataFrame(columns = ['PotentialFraud', 'Provider'])\n",
        "Train_fraud = Train.loc[(Train['PotentialFraud'] == 'Yes')]\n",
        "fraud_provider_ip_df = pd.merge(Train_Inpatient, Train_fraud, how='inner', on='Provider')\n",
        "len(fraud_provider_ip_df)"
      ],
      "execution_count": null,
      "outputs": [
        {
          "output_type": "execute_result",
          "data": {
            "text/plain": [
              "23402"
            ]
          },
          "metadata": {
            "tags": []
          },
          "execution_count": 14
        }
      ]
    },
    {
      "cell_type": "code",
      "metadata": {
        "id": "bNGFPWXmoyX2",
        "colab_type": "code",
        "colab": {
          "base_uri": "https://localhost:8080/",
          "height": 34
        },
        "outputId": "b5214fd1-e66f-4f8e-fa68-232c64c6e408"
      },
      "source": [
        "print((len(fraud_provider_ip_df)/len(Train_Inpatient)) * 100, ' %')"
      ],
      "execution_count": null,
      "outputs": [
        {
          "output_type": "stream",
          "text": [
            "57.81983495577408  %\n"
          ],
          "name": "stdout"
        }
      ]
    },
    {
      "cell_type": "markdown",
      "metadata": {
        "id": "PnQQ9Xoyrhic",
        "colab_type": "text"
      },
      "source": [
        "##  So out of 40474 there are 23402 inpatients cases that the potential fradulent providers have interacted with at one point or the other during their services at the hospital. \n",
        "\n",
        "## This is around 58% of the cases which we have in our inpatient data."
      ]
    },
    {
      "cell_type": "code",
      "metadata": {
        "id": "9usNcvdorpO6",
        "colab_type": "code",
        "colab": {
          "base_uri": "https://localhost:8080/",
          "height": 34
        },
        "outputId": "4732ce89-f71c-46b8-ae66-2eb9fd234091"
      },
      "source": [
        "len(Train_Outpatient)\n",
        "fraud_provider_op_df = pd.merge(Train_Outpatient, Train_fraud, how='inner', on='Provider')\n",
        "len(fraud_provider_op_df)"
      ],
      "execution_count": null,
      "outputs": [
        {
          "output_type": "execute_result",
          "data": {
            "text/plain": [
              "189394"
            ]
          },
          "metadata": {
            "tags": []
          },
          "execution_count": 24
        }
      ]
    },
    {
      "cell_type": "code",
      "metadata": {
        "id": "4-mwEfr-r9sb",
        "colab_type": "code",
        "colab": {
          "base_uri": "https://localhost:8080/",
          "height": 34
        },
        "outputId": "95fa70d8-f8ac-4633-96ae-ee1a2f87ca80"
      },
      "source": [
        "print((len(fraud_provider_op_df)/len(Train_Outpatient))*100, ' %')"
      ],
      "execution_count": null,
      "outputs": [
        {
          "output_type": "stream",
          "text": [
            "36.58112130290089  %\n"
          ],
          "name": "stdout"
        }
      ]
    },
    {
      "cell_type": "markdown",
      "metadata": {
        "id": "69zGdwAesNih",
        "colab_type": "text"
      },
      "source": [
        "## Around 36% potential fradulent activities for Outpatient"
      ]
    },
    {
      "cell_type": "markdown",
      "metadata": {
        "id": "tIDz8I4TxkKA",
        "colab_type": "text"
      },
      "source": [
        "# INPATIENT\n",
        "\n",
        "## Common Procedures (Potential fradulent encounters)"
      ]
    },
    {
      "cell_type": "code",
      "metadata": {
        "id": "aeOChv-osRJL",
        "colab_type": "code",
        "colab": {}
      },
      "source": [
        "procedures2 =  pd.DataFrame(columns = ['Procedures'])\n",
        "procedures2['Procedures'] = pd.concat([\n",
        "                                      fraud_provider_ip_df[\"ClmProcedureCode_1\"], \n",
        "                                      fraud_provider_ip_df[\"ClmProcedureCode_2\"], \n",
        "                                      fraud_provider_ip_df[\"ClmProcedureCode_3\"], \n",
        "                                      fraud_provider_ip_df[\"ClmProcedureCode_4\"], \n",
        "                                      fraud_provider_ip_df[\"ClmProcedureCode_5\"], \n",
        "                                      fraud_provider_ip_df[\"ClmProcedureCode_6\"]\n",
        "                        ], axis=0, sort=True).dropna()\n",
        "\n",
        "procedures2['Procedures'].head(10)\n",
        "grouped_F_procedure = procedures2['Procedures'].value_counts()"
      ],
      "execution_count": null,
      "outputs": []
    },
    {
      "cell_type": "code",
      "metadata": {
        "id": "GywsDQHts_IN",
        "colab_type": "code",
        "colab": {}
      },
      "source": [
        "grouped_F_procedure2 = grouped_F_procedure.to_frame()\n",
        "grouped_F_procedure2.columns = ['count']\n",
        "grouped_F_procedure2['Procedure'] = grouped_F_procedure2.index\n",
        "grouped_F_procedure2['Percentage'] = (grouped_F_procedure2['count']/sum(grouped_F_procedure2['count']))*100"
      ],
      "execution_count": null,
      "outputs": []
    },
    {
      "cell_type": "code",
      "metadata": {
        "id": "1cq9_P74tXrx",
        "colab_type": "code",
        "colab": {
          "base_uri": "https://localhost:8080/",
          "height": 707
        },
        "outputId": "c04c247d-b5f3-4865-efc0-db8aa9780fb8"
      },
      "source": [
        "plot_F_procedure = grouped_F_procedure2.head(20)\n",
        "\n",
        "fig = plt.figure(figsize=(25,10),)\n",
        "ax = fig.add_axes([0,0,1,1])\n",
        "\n",
        "plot_F_procedure['Procedure'] = 'P' + plot_F_procedure['Procedure'].astype(str)\n",
        "plot_F_procedure.sort_values(by=['Percentage'])\n",
        "ax.bar(plot_F_procedure['Procedure'],plot_F_procedure['Percentage'], color='green')\n",
        "plt.show()"
      ],
      "execution_count": null,
      "outputs": [
        {
          "output_type": "stream",
          "text": [
            "/usr/local/lib/python3.6/dist-packages/ipykernel_launcher.py:6: SettingWithCopyWarning: \n",
            "A value is trying to be set on a copy of a slice from a DataFrame.\n",
            "Try using .loc[row_indexer,col_indexer] = value instead\n",
            "\n",
            "See the caveats in the documentation: https://pandas.pydata.org/pandas-docs/stable/user_guide/indexing.html#returning-a-view-versus-a-copy\n",
            "  \n"
          ],
          "name": "stderr"
        },
        {
          "output_type": "display_data",
          "data": {
            "image/png": "[encoded data removed]",
            "text/plain": [
              "<Figure size 1800x720 with 1 Axes>"
            ]
          },
          "metadata": {
            "tags": []
          }
        }
      ]
    },
    {
      "cell_type": "markdown",
      "metadata": {
        "id": "v2bla9wm1-Lh",
        "colab_type": "text"
      },
      "source": [
        "The common procedures are 4019, 2734, 9904 among others."
      ]
    },
    {
      "cell_type": "markdown",
      "metadata": {
        "id": "cEQJYGdVxgVQ",
        "colab_type": "text"
      },
      "source": [
        "## Common Diagnosis (Potential fradulent encounters)"
      ]
    },
    {
      "cell_type": "code",
      "metadata": {
        "id": "7WkXDoFNwO5x",
        "colab_type": "code",
        "colab": {}
      },
      "source": [
        "diagnosis2 = pd.DataFrame(columns = ['Diagnosis'])\n",
        "diagnosis2['Diagnosis'] = pd.concat([\n",
        "                                        fraud_provider_ip_df[\"ClmDiagnosisCode_1\"], \n",
        "                                        fraud_provider_ip_df[\"ClmDiagnosisCode_2\"], \n",
        "                                        fraud_provider_ip_df[\"ClmDiagnosisCode_3\"], \n",
        "                                        fraud_provider_ip_df[\"ClmDiagnosisCode_4\"], \n",
        "                                        fraud_provider_ip_df[\"ClmDiagnosisCode_5\"], \n",
        "                                        fraud_provider_ip_df[\"ClmDiagnosisCode_6\"], \n",
        "                                        fraud_provider_ip_df[\"ClmDiagnosisCode_7\"],  \n",
        "                                        fraud_provider_ip_df[\"ClmDiagnosisCode_8\"], \n",
        "                                        fraud_provider_ip_df[\"ClmDiagnosisCode_9\"], \n",
        "                                        fraud_provider_ip_df[\"ClmDiagnosisCode_10\"]\n",
        "                                        ], axis=0, sort=True).dropna()\n",
        "diagnosis2['Diagnosis'].head(10)\n",
        "grouped_F_diagnosis = diagnosis2['Diagnosis'].value_counts()"
      ],
      "execution_count": null,
      "outputs": []
    },
    {
      "cell_type": "code",
      "metadata": {
        "id": "TwMb7NpjwrVY",
        "colab_type": "code",
        "colab": {}
      },
      "source": [
        "grouped_F_diagnosis2 = grouped_F_diagnosis.to_frame()\n",
        "grouped_F_diagnosis2.columns = ['count']\n",
        "grouped_F_diagnosis2['Diagnosis'] = grouped_F_diagnosis2.index\n",
        "grouped_F_diagnosis2['Percentage'] = (grouped_F_diagnosis2['count']/sum(grouped_F_diagnosis2['count']))*100"
      ],
      "execution_count": null,
      "outputs": []
    },
    {
      "cell_type": "code",
      "metadata": {
        "id": "TWc6EbJzw-MV",
        "colab_type": "code",
        "colab": {
          "base_uri": "https://localhost:8080/",
          "height": 707
        },
        "outputId": "d46da161-e740-4302-e242-c191c9f907a3"
      },
      "source": [
        "plot_F_diagnosis = grouped_F_diagnosis2.head(20)\n",
        "\n",
        "fig = plt.figure(figsize=(25,10),)\n",
        "ax = fig.add_axes([0,0,1,1])\n",
        "\n",
        "plot_F_diagnosis['Diagnosis'] = 'D' + plot_F_diagnosis['Diagnosis'].astype(str)\n",
        "plot_F_diagnosis.sort_values(by=['Percentage'])\n",
        "ax.bar(plot_F_diagnosis['Diagnosis'],plot_F_diagnosis['Percentage'], color='grey')\n",
        "plt.show()"
      ],
      "execution_count": null,
      "outputs": [
        {
          "output_type": "stream",
          "text": [
            "/usr/local/lib/python3.6/dist-packages/ipykernel_launcher.py:6: SettingWithCopyWarning: \n",
            "A value is trying to be set on a copy of a slice from a DataFrame.\n",
            "Try using .loc[row_indexer,col_indexer] = value instead\n",
            "\n",
            "See the caveats in the documentation: https://pandas.pydata.org/pandas-docs/stable/user_guide/indexing.html#returning-a-view-versus-a-copy\n",
            "  \n"
          ],
          "name": "stderr"
        },
        {
          "output_type": "display_data",
          "data": {
            "image/png": "[encoded data removed]",
            "text/plain": [
              "<Figure size 1800x720 with 1 Axes>"
            ]
          },
          "metadata": {
            "tags": []
          }
        }
      ]
    },
    {
      "cell_type": "markdown",
      "metadata": {
        "id": "shTDjY2W2Mfa",
        "colab_type": "text"
      },
      "source": [
        "It is the same as the usual common diagnosis"
      ]
    },
    {
      "cell_type": "markdown",
      "metadata": {
        "id": "OhUC-iaIxZjA",
        "colab_type": "text"
      },
      "source": [
        "# OUTPATIENT\n",
        "\n",
        "## Common Procedure (Potential fradulent encounters)"
      ]
    },
    {
      "cell_type": "code",
      "metadata": {
        "id": "ITkiRCzcxoAk",
        "colab_type": "code",
        "colab": {}
      },
      "source": [
        "procedures2 =  pd.DataFrame(columns = ['Procedures'])\n",
        "procedures2['Procedures'] = pd.concat([\n",
        "                                             fraud_provider_op_df[\"ClmProcedureCode_1\"], \n",
        "                                             fraud_provider_op_df[\"ClmProcedureCode_2\"], \n",
        "                                             fraud_provider_op_df[\"ClmProcedureCode_3\"], \n",
        "                                             fraud_provider_op_df[\"ClmProcedureCode_4\"], \n",
        "                                             fraud_provider_op_df[\"ClmProcedureCode_5\"], \n",
        "                                             fraud_provider_op_df[\"ClmProcedureCode_6\"]\n",
        "                                             ], axis=0, sort=True).dropna()\n",
        "procedures2['Procedures'].head(10)\n",
        "grouped_F_procedure2 = procedures2['Procedures'].value_counts()"
      ],
      "execution_count": null,
      "outputs": []
    },
    {
      "cell_type": "code",
      "metadata": {
        "id": "nFsRM0UgyHy5",
        "colab_type": "code",
        "colab": {}
      },
      "source": [
        "grouped_F_procedure_opdf2 = grouped_F_procedure2.to_frame()\n",
        "grouped_F_procedure_opdf2.columns = ['count']\n",
        "grouped_F_procedure_opdf2['Procedure'] = grouped_F_procedure_opdf2.index\n",
        "grouped_F_procedure_opdf2['Percentage'] = (grouped_F_procedure_opdf2['count']/sum(grouped_F_procedure_opdf2['count']))*100"
      ],
      "execution_count": null,
      "outputs": []
    },
    {
      "cell_type": "code",
      "metadata": {
        "id": "LpvWm-Wzy3RF",
        "colab_type": "code",
        "colab": {
          "base_uri": "https://localhost:8080/",
          "height": 707
        },
        "outputId": "f74c02d9-fa3f-45a2-da1e-df42b00b01bd"
      },
      "source": [
        "\n",
        "plot_F_procedure_opdf1 = grouped_F_procedure_opdf2.head(20)\n",
        "\n",
        "fig = plt.figure(figsize=(25,10),)\n",
        "ax = fig.add_axes([0,0,1,1])\n",
        "\n",
        "plot_F_procedure_opdf1['Procedure'] = 'P' + plot_F_procedure_opdf1['Procedure'].astype(str)\n",
        "plot_F_procedure_opdf1.sort_values(by=['Percentage'])\n",
        "ax.bar(plot_F_procedure_opdf1['Procedure'],plot_F_procedure_opdf1['Percentage'], color='red')\n",
        "plt.show()"
      ],
      "execution_count": null,
      "outputs": [
        {
          "output_type": "stream",
          "text": [
            "/usr/local/lib/python3.6/dist-packages/ipykernel_launcher.py:7: SettingWithCopyWarning: \n",
            "A value is trying to be set on a copy of a slice from a DataFrame.\n",
            "Try using .loc[row_indexer,col_indexer] = value instead\n",
            "\n",
            "See the caveats in the documentation: https://pandas.pydata.org/pandas-docs/stable/user_guide/indexing.html#returning-a-view-versus-a-copy\n",
            "  import sys\n"
          ],
          "name": "stderr"
        },
        {
          "output_type": "display_data",
          "data": {
            "image/png": "[encoded data removed]",
            "text/plain": [
              "<Figure size 1800x720 with 1 Axes>"
            ]
          },
          "metadata": {
            "tags": []
          }
        }
      ]
    },
    {
      "cell_type": "markdown",
      "metadata": {
        "id": "goG2duHG3Xv0",
        "colab_type": "text"
      },
      "source": [
        "The most common procedure are 9904, 4516 & 66.\n",
        "These are little bit different than the inpatient data."
      ]
    },
    {
      "cell_type": "markdown",
      "metadata": {
        "id": "ZneNmEys2Tcz",
        "colab_type": "text"
      },
      "source": [
        "# Diagnosis"
      ]
    },
    {
      "cell_type": "code",
      "metadata": {
        "id": "iTy8H4sB2Vc9",
        "colab_type": "code",
        "colab": {}
      },
      "source": [
        "diagnosis2 = pd.DataFrame(columns = ['Diagnosis'])\n",
        "diagnosis2['Diagnosis'] = pd.concat([\n",
        "                                           fraud_provider_op_df[\"ClmDiagnosisCode_1\"], \n",
        "                                           fraud_provider_op_df[\"ClmDiagnosisCode_2\"], \n",
        "                                           fraud_provider_op_df[\"ClmDiagnosisCode_3\"], \n",
        "                                           fraud_provider_op_df[\"ClmDiagnosisCode_4\"], \n",
        "                                           fraud_provider_op_df[\"ClmDiagnosisCode_5\"], \n",
        "                                           fraud_provider_op_df[\"ClmDiagnosisCode_6\"], \n",
        "                                           fraud_provider_op_df[\"ClmDiagnosisCode_7\"],  \n",
        "                                           fraud_provider_op_df[\"ClmDiagnosisCode_8\"], \n",
        "                                           fraud_provider_op_df[\"ClmDiagnosisCode_9\"], \n",
        "                                           fraud_provider_op_df[\"ClmDiagnosisCode_10\"]\n",
        "                                           ], axis=0, sort=True).dropna()\n",
        "diagnosis2['Diagnosis'].head(10)\n",
        "grouped_F_diagnosis2 = diagnosis2['Diagnosis'].value_counts()"
      ],
      "execution_count": null,
      "outputs": []
    },
    {
      "cell_type": "code",
      "metadata": {
        "id": "tRNyh44a2vQA",
        "colab_type": "code",
        "colab": {}
      },
      "source": [
        "grouped_F_diagnosis_opdf2 = grouped_F_diagnosis2.to_frame()\n",
        "grouped_F_diagnosis_opdf2.columns = ['count']\n",
        "grouped_F_diagnosis_opdf2['Diagnosis'] = grouped_F_diagnosis_opdf2.index\n",
        "grouped_F_diagnosis_opdf2['Percentage'] = (grouped_F_diagnosis_opdf2['count']/sum(grouped_F_diagnosis_opdf2['count']))*100"
      ],
      "execution_count": null,
      "outputs": []
    },
    {
      "cell_type": "code",
      "metadata": {
        "id": "YWNjj19-25yp",
        "colab_type": "code",
        "colab": {
          "base_uri": "https://localhost:8080/",
          "height": 707
        },
        "outputId": "ddb3e2f2-f377-4e12-b863-4ccd3583ca13"
      },
      "source": [
        "plot_F_diagnosis_opdf1 = grouped_F_diagnosis_opdf2.head(20)\n",
        "\n",
        "fig = plt.figure(figsize=(25,10),)\n",
        "ax = fig.add_axes([0,0,1,1])\n",
        "\n",
        "plot_F_diagnosis_opdf1['Diagnosis'] = 'D' + plot_F_diagnosis_opdf1['Diagnosis'].astype(str)\n",
        "plot_F_diagnosis_opdf1.sort_values(by=['Percentage'])\n",
        "ax.bar(plot_F_diagnosis_opdf1['Diagnosis'],plot_F_diagnosis_opdf1['Percentage'], color='blue')\n",
        "plt.show()"
      ],
      "execution_count": null,
      "outputs": [
        {
          "output_type": "stream",
          "text": [
            "/usr/local/lib/python3.6/dist-packages/ipykernel_launcher.py:6: SettingWithCopyWarning: \n",
            "A value is trying to be set on a copy of a slice from a DataFrame.\n",
            "Try using .loc[row_indexer,col_indexer] = value instead\n",
            "\n",
            "See the caveats in the documentation: https://pandas.pydata.org/pandas-docs/stable/user_guide/indexing.html#returning-a-view-versus-a-copy\n",
            "  \n"
          ],
          "name": "stderr"
        },
        {
          "output_type": "display_data",
          "data": {
            "image/png": "[encoded data removed]",
            "text/plain": [
              "<Figure size 1800x720 with 1 Axes>"
            ]
          },
          "metadata": {
            "tags": []
          }
        }
      ]
    },
    {
      "cell_type": "markdown",
      "metadata": {
        "id": "obnCCo_23vxG",
        "colab_type": "text"
      },
      "source": [
        "For diagnosis the data is almost same."
      ]
    },
    {
      "cell_type": "markdown",
      "metadata": {
        "id": "zCPqdGht4AoU",
        "colab_type": "text"
      },
      "source": [
        "# Let's find out the States having the highest number of potential frauds"
      ]
    },
    {
      "cell_type": "code",
      "metadata": {
        "id": "VXMdcAeg4FQw",
        "colab_type": "code",
        "colab": {}
      },
      "source": [
        "fraud_beneficiary_ip_op_df = pd.merge(Train_Beneficiary, fraud_provider_ip_df, how='inner', on='BeneID')\n",
        "fraud_beneficiary_ip_op_df = pd.merge(Train_Beneficiary, fraud_provider_op_df, how='inner', on='BeneID')\n",
        "Train_F_Beneficiary_grouped = fraud_beneficiary_ip_op_df['State'].value_counts()\n",
        "Train_F_Beneficiary_grouped1 = Train_F_Beneficiary_grouped.to_frame()\n",
        "Train_F_Beneficiary_grouped1['Count'] =  Train_F_Beneficiary_grouped1['State']\n",
        "Train_F_Beneficiary_grouped1['STATE'] = Train_F_Beneficiary_grouped1.index\n",
        "Train_F_Beneficiary_grouped1 = Train_F_Beneficiary_grouped1.drop(['State'], axis = 1)"
      ],
      "execution_count": null,
      "outputs": []
    },
    {
      "cell_type": "code",
      "metadata": {
        "id": "SugZeNCB4OtE",
        "colab_type": "code",
        "colab": {
          "base_uri": "https://localhost:8080/",
          "height": 597
        },
        "outputId": "422f356a-22f7-4974-a542-02c153b48e20"
      },
      "source": [
        "Train_F_Beneficiary_grouped1 = Train_F_Beneficiary_grouped1.head(20)\n",
        "\n",
        "fig = plt.figure(figsize=(25,10),)\n",
        "ax = fig.add_axes([0,0,1,1])\n",
        "\n",
        "Train_F_Beneficiary_grouped1['STATE'] = 'S' + Train_F_Beneficiary_grouped1['STATE'].astype(str)\n",
        "ax.bar(Train_F_Beneficiary_grouped1['STATE'],Train_F_Beneficiary_grouped1['Count'], color='gold')\n",
        "plt.show()"
      ],
      "execution_count": null,
      "outputs": [
        {
          "output_type": "display_data",
          "data": {
            "image/png": "[encoded data removed]",
            "text/plain": [
              "<Figure size 1800x720 with 1 Axes>"
            ]
          },
          "metadata": {
            "tags": []
          }
        }
      ]
    },
    {
      "cell_type": "markdown",
      "metadata": {
        "id": "Mgcy5IQ14ASs",
        "colab_type": "text"
      },
      "source": [
        "We can see that the state code 5 has the highest number of Potential fradulent cases. The difference the highest and 2nd highest one is huge."
      ]
    },
    {
      "cell_type": "markdown",
      "metadata": {
        "id": "gKoq2tf96Bqa",
        "colab_type": "text"
      },
      "source": [
        "# Let's do the age distribution for the probable fradulent activites "
      ]
    },
    {
      "cell_type": "code",
      "metadata": {
        "id": "tqecViny56Ob",
        "colab_type": "code",
        "colab": {
          "base_uri": "https://localhost:8080/",
          "height": 700
        },
        "outputId": "93330427-f4ad-4dc6-badb-446b0d34c55f"
      },
      "source": [
        "import seaborn as sns\n",
        "\n",
        "fraud_beneficiary_ip_op_df['DOB'] =  pd.to_datetime(fraud_beneficiary_ip_op_df['DOB'], format='%Y-%m-%d')  \n",
        "now = pd.to_datetime('2009-12-01' , format = '%Y-%m-%d') # Assuming this is 2009 data as the last recorded death is for 2009\n",
        "fraud_beneficiary_ip_op_df['DOB'] = fraud_beneficiary_ip_op_df['DOB'].where(fraud_beneficiary_ip_op_df['DOB'] < now, fraud_beneficiary_ip_op_df['DOB'] -  np.timedelta64(100, 'Y'))   # 2\n",
        "fraud_beneficiary_ip_op_df['age'] = (now - fraud_beneficiary_ip_op_df['DOB']).astype('<m8[Y]')    # 3\n",
        "ax = fraud_beneficiary_ip_op_df['age'].plot.hist(bins=20, alpha=0.5, figsize=(14, 12), edgecolor='k')"
      ],
      "execution_count": null,
      "outputs": [
        {
          "output_type": "display_data",
          "data": {
            "image/png": "[encoded data removed]",
            "text/plain": [
              "<Figure size 1008x864 with 1 Axes>"
            ]
          },
          "metadata": {
            "tags": []
          }
        }
      ]
    },
    {
      "cell_type": "markdown",
      "metadata": {
        "id": "1VMXKCtX4ui4",
        "colab_type": "text"
      },
      "source": [
        "This seems logical as most of the patients are of an age >65"
      ]
    },
    {
      "cell_type": "markdown",
      "metadata": {
        "id": "3rc_dmp46lg0",
        "colab_type": "text"
      },
      "source": [
        "# Age distribution for Whole Inpatient data (Fradulent and imfradulent both)\n"
      ]
    },
    {
      "cell_type": "code",
      "metadata": {
        "id": "XH_ru9zU6c8S",
        "colab_type": "code",
        "colab": {
          "base_uri": "https://localhost:8080/",
          "height": 700
        },
        "outputId": "006503f5-d05e-46ff-c121-95997ac06385"
      },
      "source": [
        "Train_Beneficiary['DOB'] =  pd.to_datetime(Train_Beneficiary['DOB'], format='%Y-%m-%d')  \n",
        "now = pd.to_datetime('2009-12-01' , format = '%Y-%m-%d') # Assuming this is 2009 data as the last recorded death is for 2009\n",
        "Train_Beneficiary['DOB'] = Train_Beneficiary['DOB'].where(Train_Beneficiary['DOB'] < now, Train_Beneficiary['DOB'] -  np.timedelta64(100, 'Y'))   # 2\n",
        "Train_Beneficiary['age'] = (now - Train_Beneficiary['DOB']).astype('<m8[Y]')    # 3\n",
        "ax = Train_Beneficiary['age'].plot.hist(bins=20, alpha=0.5, figsize=(14, 12), edgecolor='b')"
      ],
      "execution_count": null,
      "outputs": [
        {
          "output_type": "display_data",
          "data": {
            "image/png": "[encoded data removed]",
            "text/plain": [
              "<Figure size 1008x864 with 1 Axes>"
            ]
          },
          "metadata": {
            "tags": []
          }
        }
      ]
    },
    {
      "cell_type": "markdown",
      "metadata": {
        "id": "d7OxO1aI4xVS",
        "colab_type": "text"
      },
      "source": [
        "We can see the same pattern in the whole data."
      ]
    },
    {
      "cell_type": "markdown",
      "metadata": {
        "id": "cTZHgAQ862op",
        "colab_type": "text"
      },
      "source": [
        "# Cost Distribution for INPATIENT data\n",
        "\n",
        "What is the average cost of potential fraud claims and also what is the cost as a whole?"
      ]
    },
    {
      "cell_type": "code",
      "metadata": {
        "id": "__n0XPwo7EOx",
        "colab_type": "code",
        "colab": {
          "base_uri": "https://localhost:8080/",
          "height": 700
        },
        "outputId": "dfc26616-b9aa-4c5e-8d44-514e5e18df72"
      },
      "source": [
        "ax = Train_Inpatient['InscClaimAmtReimbursed'].plot.hist(bins=20, alpha=0.5, figsize=(14, 12), facecolor='g', edgecolor='k')"
      ],
      "execution_count": null,
      "outputs": [
        {
          "output_type": "display_data",
          "data": {
            "image/png": "[encoded data removed]",
            "text/plain": [
              "<Figure size 1008x864 with 1 Axes>"
            ]
          },
          "metadata": {
            "tags": []
          }
        }
      ]
    },
    {
      "cell_type": "code",
      "metadata": {
        "id": "Anlo-MED7Mc0",
        "colab_type": "code",
        "colab": {
          "base_uri": "https://localhost:8080/",
          "height": 602
        },
        "outputId": "22cbd82d-7e95-44da-8ac7-cdd5ec5e712f"
      },
      "source": [
        "Train_Inpatient_1 = pd.merge(Train_Inpatient, Train, how='inner', on='Provider')\n",
        "g = sns.FacetGrid(Train_Inpatient_1, col='PotentialFraud', height=8)\n",
        "g.map(plt.hist, 'InscClaimAmtReimbursed', bins=20, color = 'g')"
      ],
      "execution_count": null,
      "outputs": [
        {
          "output_type": "execute_result",
          "data": {
            "text/plain": [
              "<seaborn.axisgrid.FacetGrid at 0x7f3a1db82e80>"
            ]
          },
          "metadata": {
            "tags": []
          },
          "execution_count": 37
        },
        {
          "output_type": "display_data",
          "data": {
            "image/png": "[encoded data removed]",
            "text/plain": [
              "<Figure size 1152x576 with 2 Axes>"
            ]
          },
          "metadata": {
            "tags": []
          }
        }
      ]
    },
    {
      "cell_type": "markdown",
      "metadata": {
        "id": "n7_f9qeP5HtF",
        "colab_type": "text"
      },
      "source": [
        "We see that it is a significantly large amount which might be fradulent.\n",
        "This can make a huge loss of the industry."
      ]
    },
    {
      "cell_type": "markdown",
      "metadata": {
        "id": "R9jrifmn7am-",
        "colab_type": "text"
      },
      "source": [
        "# Total amount suspected for fraud"
      ]
    },
    {
      "cell_type": "code",
      "metadata": {
        "id": "Rg6QUe5Y7eZF",
        "colab_type": "code",
        "colab": {
          "base_uri": "https://localhost:8080/",
          "height": 34
        },
        "outputId": "9eea7348-fed0-4e09-fd90-d0394c1fd4b2"
      },
      "source": [
        "Train_Inpatient_1 = Train_Inpatient_1.loc[(Train_Inpatient_1['PotentialFraud'] == 'Yes')]\n",
        "Total = Train_Inpatient_1['InscClaimAmtReimbursed'].sum()\n",
        "print('$',Total)"
      ],
      "execution_count": null,
      "outputs": [
        {
          "output_type": "stream",
          "text": [
            "$ 241288510\n"
          ],
          "name": "stdout"
        }
      ]
    },
    {
      "cell_type": "markdown",
      "metadata": {
        "id": "uctDDn1e5S4H",
        "colab_type": "text"
      },
      "source": [
        "Around 241288510 dollars worth of claim might have some fradulent activity. Even if we assume that it has just 10% fradulent activity the amount will be quite huge"
      ]
    },
    {
      "cell_type": "markdown",
      "metadata": {
        "id": "XM5qiWE2743y",
        "colab_type": "text"
      },
      "source": [
        "# Cost Distribution for OUTPATIENT data"
      ]
    },
    {
      "cell_type": "code",
      "metadata": {
        "id": "VGgdPyKI77Wn",
        "colab_type": "code",
        "colab": {
          "base_uri": "https://localhost:8080/",
          "height": 700
        },
        "outputId": "a79a3b56-e82c-4a2b-f529-8e8af6ace1ea"
      },
      "source": [
        "ax = Train_Outpatient['InscClaimAmtReimbursed'].plot.hist(bins=100,range=[0, 5000], alpha=0.5, figsize=(14, 12), facecolor='c', edgecolor='k')"
      ],
      "execution_count": null,
      "outputs": [
        {
          "output_type": "display_data",
          "data": {
            "image/png": "[encoded data removed]",
            "text/plain": [
              "<Figure size 1008x864 with 1 Axes>"
            ]
          },
          "metadata": {
            "tags": []
          }
        }
      ]
    },
    {
      "cell_type": "code",
      "metadata": {
        "id": "k7yYzvSA8FVb",
        "colab_type": "code",
        "colab": {
          "base_uri": "https://localhost:8080/",
          "height": 602
        },
        "outputId": "9b4c3e7f-1399-4d28-f59c-868efff0eff3"
      },
      "source": [
        "Train_Outpatient_1 = pd.merge(Train_Outpatient, Train, how='inner', on='Provider')\n",
        "g = sns.FacetGrid(Train_Outpatient_1, col='PotentialFraud', height=8)\n",
        "g.map(plt.hist, 'InscClaimAmtReimbursed', bins=20, range=[0, 5000], color ='c')"
      ],
      "execution_count": null,
      "outputs": [
        {
          "output_type": "execute_result",
          "data": {
            "text/plain": [
              "<seaborn.axisgrid.FacetGrid at 0x7f3a1dc5f588>"
            ]
          },
          "metadata": {
            "tags": []
          },
          "execution_count": 40
        },
        {
          "output_type": "display_data",
          "data": {
            "image/png": "[encoded data removed]",
            "text/plain": [
              "<Figure size 1152x576 with 2 Axes>"
            ]
          },
          "metadata": {
            "tags": []
          }
        }
      ]
    },
    {
      "cell_type": "markdown",
      "metadata": {
        "id": "WqedLxK75hc9",
        "colab_type": "text"
      },
      "source": [
        "It makes sense as most of the outpatient claims are of a smaller amount\n",
        "\n"
      ]
    },
    {
      "cell_type": "markdown",
      "metadata": {
        "id": "1tAattsGvr0n",
        "colab_type": "text"
      },
      "source": [
        "# Checking for missing values in the data set"
      ]
    },
    {
      "cell_type": "code",
      "metadata": {
        "id": "YogyhKEAvwQs",
        "colab_type": "code",
        "colab": {
          "base_uri": "https://localhost:8080/",
          "height": 476
        },
        "outputId": "d35be7be-5e88-4ccc-e69d-f93f83e72412"
      },
      "source": [
        "Train_Beneficiary.isna().sum()"
      ],
      "execution_count": null,
      "outputs": [
        {
          "output_type": "execute_result",
          "data": {
            "text/plain": [
              "BeneID                                  0\n",
              "DOB                                     0\n",
              "DOD                                137135\n",
              "Gender                                  0\n",
              "Race                                    0\n",
              "RenalDiseaseIndicator                   0\n",
              "State                                   0\n",
              "County                                  0\n",
              "NoOfMonths_PartACov                     0\n",
              "NoOfMonths_PartBCov                     0\n",
              "ChronicCond_Alzheimer                   0\n",
              "ChronicCond_Heartfailure                0\n",
              "ChronicCond_KidneyDisease               0\n",
              "ChronicCond_Cancer                      0\n",
              "ChronicCond_ObstrPulmonary              0\n",
              "ChronicCond_Depression                  0\n",
              "ChronicCond_Diabetes                    0\n",
              "ChronicCond_IschemicHeart               0\n",
              "ChronicCond_Osteoporasis                0\n",
              "ChronicCond_rheumatoidarthritis         0\n",
              "ChronicCond_stroke                      0\n",
              "IPAnnualReimbursementAmt                0\n",
              "IPAnnualDeductibleAmt                   0\n",
              "OPAnnualReimbursementAmt                0\n",
              "OPAnnualDeductibleAmt                   0\n",
              "age                                     0\n",
              "dtype: int64"
            ]
          },
          "metadata": {
            "tags": []
          },
          "execution_count": 42
        }
      ]
    },
    {
      "cell_type": "markdown",
      "metadata": {
        "id": "1st8Z9zmwMsz",
        "colab_type": "text"
      },
      "source": [
        "137135 empty beneficiary death data, which means they are alive\n",
        "\n",
        "## Adding age column"
      ]
    },
    {
      "cell_type": "code",
      "metadata": {
        "id": "8_d3pOaZwVYo",
        "colab_type": "code",
        "colab": {}
      },
      "source": [
        "Train_Beneficiary['DOB'] = pd.to_datetime(Train_Beneficiary['DOB'] , format = '%Y-%m-%d')\n",
        "Train_Beneficiary['DOD'] = pd.to_datetime(Train_Beneficiary['DOD'],format = '%Y-%m-%d',errors='ignore')\n",
        "Train_Beneficiary['Age'] = round(((Train_Beneficiary['DOD'] - Train_Beneficiary['DOB']).dt.days)/365)\n"
      ],
      "execution_count": null,
      "outputs": []
    },
    {
      "cell_type": "code",
      "metadata": {
        "id": "LduMvU2dw_oI",
        "colab_type": "code",
        "colab": {
          "base_uri": "https://localhost:8080/",
          "height": 309
        },
        "outputId": "d62b4860-0b76-406a-800e-f55ef6004c56"
      },
      "source": [
        "Test_Beneficiary.head()"
      ],
      "execution_count": null,
      "outputs": [
        {
          "output_type": "execute_result",
          "data": {
            "text/html": [
              "<div>\n",
              "<style scoped>\n",
              "    .dataframe tbody tr th:only-of-type {\n",
              "        vertical-align: middle;\n",
              "    }\n",
              "\n",
              "    .dataframe tbody tr th {\n",
              "        vertical-align: top;\n",
              "    }\n",
              "\n",
              "    .dataframe thead th {\n",
              "        text-align: right;\n",
              "    }\n",
              "</style>\n",
              "<table border=\"1\" class=\"dataframe\">\n",
              "  <thead>\n",
              "    <tr style=\"text-align: right;\">\n",
              "      <th></th>\n",
              "      <th>BeneID</th>\n",
              "      <th>DOB</th>\n",
              "      <th>DOD</th>\n",
              "      <th>Gender</th>\n",
              "      <th>Race</th>\n",
              "      <th>RenalDiseaseIndicator</th>\n",
              "      <th>State</th>\n",
              "      <th>County</th>\n",
              "      <th>NoOfMonths_PartACov</th>\n",
              "      <th>NoOfMonths_PartBCov</th>\n",
              "      <th>ChronicCond_Alzheimer</th>\n",
              "      <th>ChronicCond_Heartfailure</th>\n",
              "      <th>ChronicCond_KidneyDisease</th>\n",
              "      <th>ChronicCond_Cancer</th>\n",
              "      <th>ChronicCond_ObstrPulmonary</th>\n",
              "      <th>ChronicCond_Depression</th>\n",
              "      <th>ChronicCond_Diabetes</th>\n",
              "      <th>ChronicCond_IschemicHeart</th>\n",
              "      <th>ChronicCond_Osteoporasis</th>\n",
              "      <th>ChronicCond_rheumatoidarthritis</th>\n",
              "      <th>ChronicCond_stroke</th>\n",
              "      <th>IPAnnualReimbursementAmt</th>\n",
              "      <th>IPAnnualDeductibleAmt</th>\n",
              "      <th>OPAnnualReimbursementAmt</th>\n",
              "      <th>OPAnnualDeductibleAmt</th>\n",
              "    </tr>\n",
              "  </thead>\n",
              "  <tbody>\n",
              "    <tr>\n",
              "      <th>0</th>\n",
              "      <td>BENE11001</td>\n",
              "      <td>1943-01-01</td>\n",
              "      <td>NaN</td>\n",
              "      <td>1</td>\n",
              "      <td>1</td>\n",
              "      <td>0</td>\n",
              "      <td>39</td>\n",
              "      <td>230</td>\n",
              "      <td>12</td>\n",
              "      <td>12</td>\n",
              "      <td>1</td>\n",
              "      <td>2</td>\n",
              "      <td>1</td>\n",
              "      <td>2</td>\n",
              "      <td>2</td>\n",
              "      <td>1</td>\n",
              "      <td>1</td>\n",
              "      <td>1</td>\n",
              "      <td>2</td>\n",
              "      <td>1</td>\n",
              "      <td>1</td>\n",
              "      <td>36000</td>\n",
              "      <td>3204</td>\n",
              "      <td>60</td>\n",
              "      <td>70</td>\n",
              "    </tr>\n",
              "    <tr>\n",
              "      <th>1</th>\n",
              "      <td>BENE11007</td>\n",
              "      <td>1940-09-01</td>\n",
              "      <td>2009-12-01</td>\n",
              "      <td>1</td>\n",
              "      <td>2</td>\n",
              "      <td>0</td>\n",
              "      <td>45</td>\n",
              "      <td>610</td>\n",
              "      <td>12</td>\n",
              "      <td>12</td>\n",
              "      <td>1</td>\n",
              "      <td>1</td>\n",
              "      <td>2</td>\n",
              "      <td>2</td>\n",
              "      <td>2</td>\n",
              "      <td>2</td>\n",
              "      <td>1</td>\n",
              "      <td>2</td>\n",
              "      <td>1</td>\n",
              "      <td>1</td>\n",
              "      <td>2</td>\n",
              "      <td>0</td>\n",
              "      <td>0</td>\n",
              "      <td>1490</td>\n",
              "      <td>160</td>\n",
              "    </tr>\n",
              "    <tr>\n",
              "      <th>2</th>\n",
              "      <td>BENE11010</td>\n",
              "      <td>1936-07-01</td>\n",
              "      <td>NaN</td>\n",
              "      <td>2</td>\n",
              "      <td>1</td>\n",
              "      <td>0</td>\n",
              "      <td>41</td>\n",
              "      <td>30</td>\n",
              "      <td>12</td>\n",
              "      <td>12</td>\n",
              "      <td>2</td>\n",
              "      <td>1</td>\n",
              "      <td>2</td>\n",
              "      <td>1</td>\n",
              "      <td>1</td>\n",
              "      <td>2</td>\n",
              "      <td>1</td>\n",
              "      <td>1</td>\n",
              "      <td>1</td>\n",
              "      <td>2</td>\n",
              "      <td>2</td>\n",
              "      <td>0</td>\n",
              "      <td>0</td>\n",
              "      <td>1170</td>\n",
              "      <td>660</td>\n",
              "    </tr>\n",
              "    <tr>\n",
              "      <th>3</th>\n",
              "      <td>BENE11011</td>\n",
              "      <td>1914-03-01</td>\n",
              "      <td>NaN</td>\n",
              "      <td>2</td>\n",
              "      <td>2</td>\n",
              "      <td>0</td>\n",
              "      <td>1</td>\n",
              "      <td>360</td>\n",
              "      <td>12</td>\n",
              "      <td>12</td>\n",
              "      <td>2</td>\n",
              "      <td>1</td>\n",
              "      <td>1</td>\n",
              "      <td>2</td>\n",
              "      <td>2</td>\n",
              "      <td>1</td>\n",
              "      <td>1</td>\n",
              "      <td>2</td>\n",
              "      <td>2</td>\n",
              "      <td>1</td>\n",
              "      <td>1</td>\n",
              "      <td>5000</td>\n",
              "      <td>1068</td>\n",
              "      <td>250</td>\n",
              "      <td>320</td>\n",
              "    </tr>\n",
              "    <tr>\n",
              "      <th>4</th>\n",
              "      <td>BENE11014</td>\n",
              "      <td>1938-04-01</td>\n",
              "      <td>NaN</td>\n",
              "      <td>2</td>\n",
              "      <td>1</td>\n",
              "      <td>Y</td>\n",
              "      <td>45</td>\n",
              "      <td>780</td>\n",
              "      <td>12</td>\n",
              "      <td>12</td>\n",
              "      <td>2</td>\n",
              "      <td>1</td>\n",
              "      <td>1</td>\n",
              "      <td>2</td>\n",
              "      <td>1</td>\n",
              "      <td>1</td>\n",
              "      <td>2</td>\n",
              "      <td>1</td>\n",
              "      <td>2</td>\n",
              "      <td>2</td>\n",
              "      <td>2</td>\n",
              "      <td>21260</td>\n",
              "      <td>2136</td>\n",
              "      <td>120</td>\n",
              "      <td>100</td>\n",
              "    </tr>\n",
              "  </tbody>\n",
              "</table>\n",
              "</div>"
            ],
            "text/plain": [
              "      BeneID         DOB  ... OPAnnualReimbursementAmt  OPAnnualDeductibleAmt\n",
              "0  BENE11001  1943-01-01  ...                       60                     70\n",
              "1  BENE11007  1940-09-01  ...                     1490                    160\n",
              "2  BENE11010  1936-07-01  ...                     1170                    660\n",
              "3  BENE11011  1914-03-01  ...                      250                    320\n",
              "4  BENE11014  1938-04-01  ...                      120                    100\n",
              "\n",
              "[5 rows x 25 columns]"
            ]
          },
          "metadata": {
            "tags": []
          },
          "execution_count": 44
        }
      ]
    },
    {
      "cell_type": "markdown",
      "metadata": {
        "id": "Fh1vHxQfx6iE",
        "colab_type": "text"
      },
      "source": [
        "# As data is of year 2009,  Calculating age of beneficiaries"
      ]
    },
    {
      "cell_type": "code",
      "metadata": {
        "id": "P8Xbij1VxUF7",
        "colab_type": "code",
        "colab": {}
      },
      "source": [
        "Train_Beneficiary.Age.fillna(round(((pd.to_datetime('2009-12-01' , format = '%Y-%m-%d') - Train_Beneficiary['DOB']).dt.days)/365),inplace=True)"
      ],
      "execution_count": null,
      "outputs": []
    },
    {
      "cell_type": "code",
      "metadata": {
        "id": "w8f2wu-8xes3",
        "colab_type": "code",
        "colab": {
          "base_uri": "https://localhost:8080/",
          "height": 224
        },
        "outputId": "14c50452-65a5-4804-c6ab-379d22f26737"
      },
      "source": [
        "Train_Inpatient.head()"
      ],
      "execution_count": null,
      "outputs": [
        {
          "output_type": "execute_result",
          "data": {
            "text/html": [
              "<div>\n",
              "<style scoped>\n",
              "    .dataframe tbody tr th:only-of-type {\n",
              "        vertical-align: middle;\n",
              "    }\n",
              "\n",
              "    .dataframe tbody tr th {\n",
              "        vertical-align: top;\n",
              "    }\n",
              "\n",
              "    .dataframe thead th {\n",
              "        text-align: right;\n",
              "    }\n",
              "</style>\n",
              "<table border=\"1\" class=\"dataframe\">\n",
              "  <thead>\n",
              "    <tr style=\"text-align: right;\">\n",
              "      <th></th>\n",
              "      <th>BeneID</th>\n",
              "      <th>ClaimID</th>\n",
              "      <th>ClaimStartDt</th>\n",
              "      <th>ClaimEndDt</th>\n",
              "      <th>Provider</th>\n",
              "      <th>InscClaimAmtReimbursed</th>\n",
              "      <th>AttendingPhysician</th>\n",
              "      <th>OperatingPhysician</th>\n",
              "      <th>OtherPhysician</th>\n",
              "      <th>AdmissionDt</th>\n",
              "      <th>ClmAdmitDiagnosisCode</th>\n",
              "      <th>DeductibleAmtPaid</th>\n",
              "      <th>DischargeDt</th>\n",
              "      <th>DiagnosisGroupCode</th>\n",
              "      <th>ClmDiagnosisCode_1</th>\n",
              "      <th>ClmDiagnosisCode_2</th>\n",
              "      <th>ClmDiagnosisCode_3</th>\n",
              "      <th>ClmDiagnosisCode_4</th>\n",
              "      <th>ClmDiagnosisCode_5</th>\n",
              "      <th>ClmDiagnosisCode_6</th>\n",
              "      <th>ClmDiagnosisCode_7</th>\n",
              "      <th>ClmDiagnosisCode_8</th>\n",
              "      <th>ClmDiagnosisCode_9</th>\n",
              "      <th>ClmDiagnosisCode_10</th>\n",
              "      <th>ClmProcedureCode_1</th>\n",
              "      <th>ClmProcedureCode_2</th>\n",
              "      <th>ClmProcedureCode_3</th>\n",
              "      <th>ClmProcedureCode_4</th>\n",
              "      <th>ClmProcedureCode_5</th>\n",
              "      <th>ClmProcedureCode_6</th>\n",
              "    </tr>\n",
              "  </thead>\n",
              "  <tbody>\n",
              "    <tr>\n",
              "      <th>0</th>\n",
              "      <td>BENE11001</td>\n",
              "      <td>CLM46614</td>\n",
              "      <td>2009-04-12</td>\n",
              "      <td>2009-04-18</td>\n",
              "      <td>PRV55912</td>\n",
              "      <td>26000</td>\n",
              "      <td>PHY390922</td>\n",
              "      <td>NaN</td>\n",
              "      <td>NaN</td>\n",
              "      <td>2009-04-12</td>\n",
              "      <td>7866</td>\n",
              "      <td>1068.0</td>\n",
              "      <td>2009-04-18</td>\n",
              "      <td>201</td>\n",
              "      <td>1970</td>\n",
              "      <td>4019</td>\n",
              "      <td>5853</td>\n",
              "      <td>7843</td>\n",
              "      <td>2768</td>\n",
              "      <td>71590</td>\n",
              "      <td>2724</td>\n",
              "      <td>19889</td>\n",
              "      <td>5849</td>\n",
              "      <td>NaN</td>\n",
              "      <td>NaN</td>\n",
              "      <td>NaN</td>\n",
              "      <td>NaN</td>\n",
              "      <td>NaN</td>\n",
              "      <td>NaN</td>\n",
              "      <td>NaN</td>\n",
              "    </tr>\n",
              "    <tr>\n",
              "      <th>1</th>\n",
              "      <td>BENE11001</td>\n",
              "      <td>CLM66048</td>\n",
              "      <td>2009-08-31</td>\n",
              "      <td>2009-09-02</td>\n",
              "      <td>PRV55907</td>\n",
              "      <td>5000</td>\n",
              "      <td>PHY318495</td>\n",
              "      <td>PHY318495</td>\n",
              "      <td>NaN</td>\n",
              "      <td>2009-08-31</td>\n",
              "      <td>6186</td>\n",
              "      <td>1068.0</td>\n",
              "      <td>2009-09-02</td>\n",
              "      <td>750</td>\n",
              "      <td>6186</td>\n",
              "      <td>2948</td>\n",
              "      <td>56400</td>\n",
              "      <td>NaN</td>\n",
              "      <td>NaN</td>\n",
              "      <td>NaN</td>\n",
              "      <td>NaN</td>\n",
              "      <td>NaN</td>\n",
              "      <td>NaN</td>\n",
              "      <td>NaN</td>\n",
              "      <td>7092.0</td>\n",
              "      <td>NaN</td>\n",
              "      <td>NaN</td>\n",
              "      <td>NaN</td>\n",
              "      <td>NaN</td>\n",
              "      <td>NaN</td>\n",
              "    </tr>\n",
              "    <tr>\n",
              "      <th>2</th>\n",
              "      <td>BENE11001</td>\n",
              "      <td>CLM68358</td>\n",
              "      <td>2009-09-17</td>\n",
              "      <td>2009-09-20</td>\n",
              "      <td>PRV56046</td>\n",
              "      <td>5000</td>\n",
              "      <td>PHY372395</td>\n",
              "      <td>NaN</td>\n",
              "      <td>PHY324689</td>\n",
              "      <td>2009-09-17</td>\n",
              "      <td>29590</td>\n",
              "      <td>1068.0</td>\n",
              "      <td>2009-09-20</td>\n",
              "      <td>883</td>\n",
              "      <td>29623</td>\n",
              "      <td>30390</td>\n",
              "      <td>71690</td>\n",
              "      <td>34590</td>\n",
              "      <td>V1581</td>\n",
              "      <td>32723</td>\n",
              "      <td>NaN</td>\n",
              "      <td>NaN</td>\n",
              "      <td>NaN</td>\n",
              "      <td>NaN</td>\n",
              "      <td>NaN</td>\n",
              "      <td>NaN</td>\n",
              "      <td>NaN</td>\n",
              "      <td>NaN</td>\n",
              "      <td>NaN</td>\n",
              "      <td>NaN</td>\n",
              "    </tr>\n",
              "    <tr>\n",
              "      <th>3</th>\n",
              "      <td>BENE11011</td>\n",
              "      <td>CLM38412</td>\n",
              "      <td>2009-02-14</td>\n",
              "      <td>2009-02-22</td>\n",
              "      <td>PRV52405</td>\n",
              "      <td>5000</td>\n",
              "      <td>PHY369659</td>\n",
              "      <td>PHY392961</td>\n",
              "      <td>PHY349768</td>\n",
              "      <td>2009-02-14</td>\n",
              "      <td>431</td>\n",
              "      <td>1068.0</td>\n",
              "      <td>2009-02-22</td>\n",
              "      <td>067</td>\n",
              "      <td>43491</td>\n",
              "      <td>2762</td>\n",
              "      <td>7843</td>\n",
              "      <td>32723</td>\n",
              "      <td>V1041</td>\n",
              "      <td>4254</td>\n",
              "      <td>25062</td>\n",
              "      <td>40390</td>\n",
              "      <td>4019</td>\n",
              "      <td>NaN</td>\n",
              "      <td>331.0</td>\n",
              "      <td>NaN</td>\n",
              "      <td>NaN</td>\n",
              "      <td>NaN</td>\n",
              "      <td>NaN</td>\n",
              "      <td>NaN</td>\n",
              "    </tr>\n",
              "    <tr>\n",
              "      <th>4</th>\n",
              "      <td>BENE11014</td>\n",
              "      <td>CLM63689</td>\n",
              "      <td>2009-08-13</td>\n",
              "      <td>2009-08-30</td>\n",
              "      <td>PRV56614</td>\n",
              "      <td>10000</td>\n",
              "      <td>PHY379376</td>\n",
              "      <td>PHY398258</td>\n",
              "      <td>NaN</td>\n",
              "      <td>2009-08-13</td>\n",
              "      <td>78321</td>\n",
              "      <td>1068.0</td>\n",
              "      <td>2009-08-30</td>\n",
              "      <td>975</td>\n",
              "      <td>042</td>\n",
              "      <td>3051</td>\n",
              "      <td>34400</td>\n",
              "      <td>5856</td>\n",
              "      <td>42732</td>\n",
              "      <td>486</td>\n",
              "      <td>5119</td>\n",
              "      <td>29620</td>\n",
              "      <td>20300</td>\n",
              "      <td>NaN</td>\n",
              "      <td>3893.0</td>\n",
              "      <td>NaN</td>\n",
              "      <td>NaN</td>\n",
              "      <td>NaN</td>\n",
              "      <td>NaN</td>\n",
              "      <td>NaN</td>\n",
              "    </tr>\n",
              "  </tbody>\n",
              "</table>\n",
              "</div>"
            ],
            "text/plain": [
              "      BeneID   ClaimID  ... ClmProcedureCode_5 ClmProcedureCode_6\n",
              "0  BENE11001  CLM46614  ...                NaN                NaN\n",
              "1  BENE11001  CLM66048  ...                NaN                NaN\n",
              "2  BENE11001  CLM68358  ...                NaN                NaN\n",
              "3  BENE11011  CLM38412  ...                NaN                NaN\n",
              "4  BENE11014  CLM63689  ...                NaN                NaN\n",
              "\n",
              "[5 rows x 30 columns]"
            ]
          },
          "metadata": {
            "tags": []
          },
          "execution_count": 47
        }
      ]
    },
    {
      "cell_type": "markdown",
      "metadata": {
        "id": "cQ7LzBTNyGbR",
        "colab_type": "text"
      },
      "source": [
        "# Creating Master DataFrame"
      ]
    },
    {
      "cell_type": "code",
      "metadata": {
        "id": "_IAJX3MmyBht",
        "colab_type": "code",
        "colab": {}
      },
      "source": [
        "Train_Inpatient['EncounterType'] = 0\n",
        "Train_Outpatient['EncounterType'] = 1\n",
        "frames = [Train_Inpatient, Train_Outpatient]\n",
        "TrainInAndOut = pd.concat(frames)\n",
        "TrainInAndOutBenf = pd.merge(TrainInAndOut, Train_Beneficiary, how='inner', on='BeneID')\n",
        "Master_df = pd.merge(TrainInAndOutBenf, Train, how='inner', on='Provider')"
      ],
      "execution_count": null,
      "outputs": []
    },
    {
      "cell_type": "code",
      "metadata": {
        "id": "VH_RSxYUy9Vt",
        "colab_type": "code",
        "colab": {
          "base_uri": "https://localhost:8080/",
          "height": 309
        },
        "outputId": "b5314d7d-db13-496c-b9dc-bb2ff0c3bdd5"
      },
      "source": [
        "Master_df.head()"
      ],
      "execution_count": null,
      "outputs": [
        {
          "output_type": "execute_result",
          "data": {
            "text/html": [
              "<div>\n",
              "<style scoped>\n",
              "    .dataframe tbody tr th:only-of-type {\n",
              "        vertical-align: middle;\n",
              "    }\n",
              "\n",
              "    .dataframe tbody tr th {\n",
              "        vertical-align: top;\n",
              "    }\n",
              "\n",
              "    .dataframe thead th {\n",
              "        text-align: right;\n",
              "    }\n",
              "</style>\n",
              "<table border=\"1\" class=\"dataframe\">\n",
              "  <thead>\n",
              "    <tr style=\"text-align: right;\">\n",
              "      <th></th>\n",
              "      <th>BeneID</th>\n",
              "      <th>ClaimID</th>\n",
              "      <th>ClaimStartDt</th>\n",
              "      <th>ClaimEndDt</th>\n",
              "      <th>Provider</th>\n",
              "      <th>InscClaimAmtReimbursed</th>\n",
              "      <th>AttendingPhysician</th>\n",
              "      <th>OperatingPhysician</th>\n",
              "      <th>OtherPhysician</th>\n",
              "      <th>AdmissionDt</th>\n",
              "      <th>ClmAdmitDiagnosisCode</th>\n",
              "      <th>DeductibleAmtPaid</th>\n",
              "      <th>DischargeDt</th>\n",
              "      <th>DiagnosisGroupCode</th>\n",
              "      <th>ClmDiagnosisCode_1</th>\n",
              "      <th>ClmDiagnosisCode_2</th>\n",
              "      <th>ClmDiagnosisCode_3</th>\n",
              "      <th>ClmDiagnosisCode_4</th>\n",
              "      <th>ClmDiagnosisCode_5</th>\n",
              "      <th>ClmDiagnosisCode_6</th>\n",
              "      <th>ClmDiagnosisCode_7</th>\n",
              "      <th>ClmDiagnosisCode_8</th>\n",
              "      <th>ClmDiagnosisCode_9</th>\n",
              "      <th>ClmDiagnosisCode_10</th>\n",
              "      <th>ClmProcedureCode_1</th>\n",
              "      <th>ClmProcedureCode_2</th>\n",
              "      <th>ClmProcedureCode_3</th>\n",
              "      <th>ClmProcedureCode_4</th>\n",
              "      <th>ClmProcedureCode_5</th>\n",
              "      <th>ClmProcedureCode_6</th>\n",
              "      <th>EncounterType</th>\n",
              "      <th>DOB</th>\n",
              "      <th>DOD</th>\n",
              "      <th>Gender</th>\n",
              "      <th>Race</th>\n",
              "      <th>RenalDiseaseIndicator</th>\n",
              "      <th>State</th>\n",
              "      <th>County</th>\n",
              "      <th>NoOfMonths_PartACov</th>\n",
              "      <th>NoOfMonths_PartBCov</th>\n",
              "      <th>ChronicCond_Alzheimer</th>\n",
              "      <th>ChronicCond_Heartfailure</th>\n",
              "      <th>ChronicCond_KidneyDisease</th>\n",
              "      <th>ChronicCond_Cancer</th>\n",
              "      <th>ChronicCond_ObstrPulmonary</th>\n",
              "      <th>ChronicCond_Depression</th>\n",
              "      <th>ChronicCond_Diabetes</th>\n",
              "      <th>ChronicCond_IschemicHeart</th>\n",
              "      <th>ChronicCond_Osteoporasis</th>\n",
              "      <th>ChronicCond_rheumatoidarthritis</th>\n",
              "      <th>ChronicCond_stroke</th>\n",
              "      <th>IPAnnualReimbursementAmt</th>\n",
              "      <th>IPAnnualDeductibleAmt</th>\n",
              "      <th>OPAnnualReimbursementAmt</th>\n",
              "      <th>OPAnnualDeductibleAmt</th>\n",
              "      <th>age</th>\n",
              "      <th>Age</th>\n",
              "      <th>PotentialFraud</th>\n",
              "    </tr>\n",
              "  </thead>\n",
              "  <tbody>\n",
              "    <tr>\n",
              "      <th>0</th>\n",
              "      <td>BENE11001</td>\n",
              "      <td>CLM46614</td>\n",
              "      <td>2009-04-12</td>\n",
              "      <td>2009-04-18</td>\n",
              "      <td>PRV55912</td>\n",
              "      <td>26000</td>\n",
              "      <td>PHY390922</td>\n",
              "      <td>NaN</td>\n",
              "      <td>NaN</td>\n",
              "      <td>2009-04-12</td>\n",
              "      <td>7866</td>\n",
              "      <td>1068.0</td>\n",
              "      <td>2009-04-18</td>\n",
              "      <td>201</td>\n",
              "      <td>1970</td>\n",
              "      <td>4019</td>\n",
              "      <td>5853</td>\n",
              "      <td>7843</td>\n",
              "      <td>2768</td>\n",
              "      <td>71590</td>\n",
              "      <td>2724</td>\n",
              "      <td>19889</td>\n",
              "      <td>5849</td>\n",
              "      <td>NaN</td>\n",
              "      <td>NaN</td>\n",
              "      <td>NaN</td>\n",
              "      <td>NaN</td>\n",
              "      <td>NaN</td>\n",
              "      <td>NaN</td>\n",
              "      <td>NaN</td>\n",
              "      <td>0</td>\n",
              "      <td>1943-01-01</td>\n",
              "      <td>NaT</td>\n",
              "      <td>1</td>\n",
              "      <td>1</td>\n",
              "      <td>0</td>\n",
              "      <td>39</td>\n",
              "      <td>230</td>\n",
              "      <td>12</td>\n",
              "      <td>12</td>\n",
              "      <td>1</td>\n",
              "      <td>2</td>\n",
              "      <td>1</td>\n",
              "      <td>2</td>\n",
              "      <td>2</td>\n",
              "      <td>1</td>\n",
              "      <td>1</td>\n",
              "      <td>1</td>\n",
              "      <td>2</td>\n",
              "      <td>1</td>\n",
              "      <td>1</td>\n",
              "      <td>36000</td>\n",
              "      <td>3204</td>\n",
              "      <td>60</td>\n",
              "      <td>70</td>\n",
              "      <td>66.0</td>\n",
              "      <td>67.0</td>\n",
              "      <td>Yes</td>\n",
              "    </tr>\n",
              "    <tr>\n",
              "      <th>1</th>\n",
              "      <td>BENE16973</td>\n",
              "      <td>CLM565430</td>\n",
              "      <td>2009-09-06</td>\n",
              "      <td>2009-09-06</td>\n",
              "      <td>PRV55912</td>\n",
              "      <td>50</td>\n",
              "      <td>PHY365867</td>\n",
              "      <td>PHY327147</td>\n",
              "      <td>NaN</td>\n",
              "      <td>NaN</td>\n",
              "      <td>NaN</td>\n",
              "      <td>0.0</td>\n",
              "      <td>NaN</td>\n",
              "      <td>NaN</td>\n",
              "      <td>V7183</td>\n",
              "      <td>53081</td>\n",
              "      <td>78959</td>\n",
              "      <td>4280</td>\n",
              "      <td>E8788</td>\n",
              "      <td>78079</td>\n",
              "      <td>79902</td>\n",
              "      <td>25002</td>\n",
              "      <td>71848</td>\n",
              "      <td>NaN</td>\n",
              "      <td>NaN</td>\n",
              "      <td>NaN</td>\n",
              "      <td>NaN</td>\n",
              "      <td>NaN</td>\n",
              "      <td>NaN</td>\n",
              "      <td>NaN</td>\n",
              "      <td>1</td>\n",
              "      <td>1932-05-01</td>\n",
              "      <td>NaT</td>\n",
              "      <td>1</td>\n",
              "      <td>1</td>\n",
              "      <td>0</td>\n",
              "      <td>39</td>\n",
              "      <td>310</td>\n",
              "      <td>12</td>\n",
              "      <td>12</td>\n",
              "      <td>1</td>\n",
              "      <td>1</td>\n",
              "      <td>1</td>\n",
              "      <td>2</td>\n",
              "      <td>2</td>\n",
              "      <td>2</td>\n",
              "      <td>2</td>\n",
              "      <td>1</td>\n",
              "      <td>2</td>\n",
              "      <td>2</td>\n",
              "      <td>2</td>\n",
              "      <td>24000</td>\n",
              "      <td>2136</td>\n",
              "      <td>450</td>\n",
              "      <td>200</td>\n",
              "      <td>77.0</td>\n",
              "      <td>78.0</td>\n",
              "      <td>Yes</td>\n",
              "    </tr>\n",
              "    <tr>\n",
              "      <th>2</th>\n",
              "      <td>BENE17521</td>\n",
              "      <td>CLM34721</td>\n",
              "      <td>2009-01-20</td>\n",
              "      <td>2009-02-01</td>\n",
              "      <td>PRV55912</td>\n",
              "      <td>19000</td>\n",
              "      <td>PHY349293</td>\n",
              "      <td>PHY370861</td>\n",
              "      <td>PHY363291</td>\n",
              "      <td>2009-01-20</td>\n",
              "      <td>45340</td>\n",
              "      <td>1068.0</td>\n",
              "      <td>2009-02-01</td>\n",
              "      <td>987</td>\n",
              "      <td>4240</td>\n",
              "      <td>2639</td>\n",
              "      <td>2948</td>\n",
              "      <td>40390</td>\n",
              "      <td>45821</td>\n",
              "      <td>28489</td>\n",
              "      <td>5854</td>\n",
              "      <td>2753</td>\n",
              "      <td>E9305</td>\n",
              "      <td>NaN</td>\n",
              "      <td>7769.0</td>\n",
              "      <td>5849.0</td>\n",
              "      <td>NaN</td>\n",
              "      <td>NaN</td>\n",
              "      <td>NaN</td>\n",
              "      <td>NaN</td>\n",
              "      <td>0</td>\n",
              "      <td>1913-12-01</td>\n",
              "      <td>NaT</td>\n",
              "      <td>2</td>\n",
              "      <td>1</td>\n",
              "      <td>0</td>\n",
              "      <td>39</td>\n",
              "      <td>230</td>\n",
              "      <td>12</td>\n",
              "      <td>12</td>\n",
              "      <td>1</td>\n",
              "      <td>1</td>\n",
              "      <td>1</td>\n",
              "      <td>2</td>\n",
              "      <td>1</td>\n",
              "      <td>2</td>\n",
              "      <td>2</td>\n",
              "      <td>1</td>\n",
              "      <td>2</td>\n",
              "      <td>2</td>\n",
              "      <td>2</td>\n",
              "      <td>19000</td>\n",
              "      <td>1068</td>\n",
              "      <td>100</td>\n",
              "      <td>20</td>\n",
              "      <td>96.0</td>\n",
              "      <td>96.0</td>\n",
              "      <td>Yes</td>\n",
              "    </tr>\n",
              "    <tr>\n",
              "      <th>3</th>\n",
              "      <td>BENE21718</td>\n",
              "      <td>CLM72336</td>\n",
              "      <td>2009-10-17</td>\n",
              "      <td>2009-11-04</td>\n",
              "      <td>PRV55912</td>\n",
              "      <td>17000</td>\n",
              "      <td>PHY334706</td>\n",
              "      <td>PHY334706</td>\n",
              "      <td>NaN</td>\n",
              "      <td>2009-10-17</td>\n",
              "      <td>V5789</td>\n",
              "      <td>1068.0</td>\n",
              "      <td>2009-11-04</td>\n",
              "      <td>941</td>\n",
              "      <td>V5789</td>\n",
              "      <td>4168</td>\n",
              "      <td>73313</td>\n",
              "      <td>7812</td>\n",
              "      <td>7993</td>\n",
              "      <td>78830</td>\n",
              "      <td>72273</td>\n",
              "      <td>43812</td>\n",
              "      <td>4019</td>\n",
              "      <td>NaN</td>\n",
              "      <td>9338.0</td>\n",
              "      <td>NaN</td>\n",
              "      <td>NaN</td>\n",
              "      <td>NaN</td>\n",
              "      <td>NaN</td>\n",
              "      <td>NaN</td>\n",
              "      <td>0</td>\n",
              "      <td>1922-10-01</td>\n",
              "      <td>NaT</td>\n",
              "      <td>1</td>\n",
              "      <td>1</td>\n",
              "      <td>0</td>\n",
              "      <td>39</td>\n",
              "      <td>600</td>\n",
              "      <td>12</td>\n",
              "      <td>12</td>\n",
              "      <td>2</td>\n",
              "      <td>2</td>\n",
              "      <td>2</td>\n",
              "      <td>2</td>\n",
              "      <td>2</td>\n",
              "      <td>2</td>\n",
              "      <td>2</td>\n",
              "      <td>1</td>\n",
              "      <td>1</td>\n",
              "      <td>2</td>\n",
              "      <td>2</td>\n",
              "      <td>17000</td>\n",
              "      <td>1068</td>\n",
              "      <td>1050</td>\n",
              "      <td>540</td>\n",
              "      <td>87.0</td>\n",
              "      <td>87.0</td>\n",
              "      <td>Yes</td>\n",
              "    </tr>\n",
              "    <tr>\n",
              "      <th>4</th>\n",
              "      <td>BENE22934</td>\n",
              "      <td>CLM73394</td>\n",
              "      <td>2009-10-25</td>\n",
              "      <td>2009-10-29</td>\n",
              "      <td>PRV55912</td>\n",
              "      <td>13000</td>\n",
              "      <td>PHY390614</td>\n",
              "      <td>PHY323689</td>\n",
              "      <td>PHY363291</td>\n",
              "      <td>2009-10-25</td>\n",
              "      <td>71946</td>\n",
              "      <td>1068.0</td>\n",
              "      <td>2009-10-29</td>\n",
              "      <td>506</td>\n",
              "      <td>71535</td>\n",
              "      <td>71960</td>\n",
              "      <td>4019</td>\n",
              "      <td>V1202</td>\n",
              "      <td>4240</td>\n",
              "      <td>2449</td>\n",
              "      <td>2768</td>\n",
              "      <td>NaN</td>\n",
              "      <td>NaN</td>\n",
              "      <td>NaN</td>\n",
              "      <td>8154.0</td>\n",
              "      <td>NaN</td>\n",
              "      <td>NaN</td>\n",
              "      <td>NaN</td>\n",
              "      <td>NaN</td>\n",
              "      <td>NaN</td>\n",
              "      <td>0</td>\n",
              "      <td>1930-07-01</td>\n",
              "      <td>NaT</td>\n",
              "      <td>2</td>\n",
              "      <td>1</td>\n",
              "      <td>0</td>\n",
              "      <td>39</td>\n",
              "      <td>280</td>\n",
              "      <td>12</td>\n",
              "      <td>12</td>\n",
              "      <td>2</td>\n",
              "      <td>1</td>\n",
              "      <td>2</td>\n",
              "      <td>2</td>\n",
              "      <td>1</td>\n",
              "      <td>2</td>\n",
              "      <td>1</td>\n",
              "      <td>1</td>\n",
              "      <td>1</td>\n",
              "      <td>1</td>\n",
              "      <td>2</td>\n",
              "      <td>27000</td>\n",
              "      <td>2136</td>\n",
              "      <td>450</td>\n",
              "      <td>160</td>\n",
              "      <td>79.0</td>\n",
              "      <td>79.0</td>\n",
              "      <td>Yes</td>\n",
              "    </tr>\n",
              "  </tbody>\n",
              "</table>\n",
              "</div>"
            ],
            "text/plain": [
              "      BeneID    ClaimID ClaimStartDt  ...   age   Age  PotentialFraud\n",
              "0  BENE11001   CLM46614   2009-04-12  ...  66.0  67.0             Yes\n",
              "1  BENE16973  CLM565430   2009-09-06  ...  77.0  78.0             Yes\n",
              "2  BENE17521   CLM34721   2009-01-20  ...  96.0  96.0             Yes\n",
              "3  BENE21718   CLM72336   2009-10-17  ...  87.0  87.0             Yes\n",
              "4  BENE22934   CLM73394   2009-10-25  ...  79.0  79.0             Yes\n",
              "\n",
              "[5 rows x 58 columns]"
            ]
          },
          "metadata": {
            "tags": []
          },
          "execution_count": 50
        }
      ]
    },
    {
      "cell_type": "markdown",
      "metadata": {
        "id": "3u6Ab2GS20LC",
        "colab_type": "text"
      },
      "source": [
        "# Remove DOD with IsDead and droping DOB as we have age"
      ]
    },
    {
      "cell_type": "code",
      "metadata": {
        "id": "ph4a_WSt2nXI",
        "colab_type": "code",
        "colab": {}
      },
      "source": [
        "Master_df.loc[Master_df['DOD'].isnull(), 'IsDead'] = '0'\n",
        "Master_df.loc[(Master_df['DOD'].notnull()), 'IsDead'] = '1'\n",
        "Master_df = Master_df.drop(['DOD'], axis = 1)\n",
        "Master_df = Master_df.drop(['DOB'], axis = 1)\n",
        "Master_df = Master_df.drop(['age'], axis = 1) \n"
      ],
      "execution_count": null,
      "outputs": []
    },
    {
      "cell_type": "code",
      "metadata": {
        "id": "WsUdHQA654HU",
        "colab_type": "code",
        "colab": {}
      },
      "source": [
        "### Sum all results\n",
        "df1 = Master_df.groupby(['Provider'], as_index = False)[['InscClaimAmtReimbursed', 'DeductibleAmtPaid', 'RenalDiseaseIndicator', \n",
        "                                                  'ChronicCond_Alzheimer', 'ChronicCond_Heartfailure',\n",
        "                                                  'ChronicCond_KidneyDisease', 'ChronicCond_Cancer', \n",
        "                                                  'ChronicCond_ObstrPulmonary', 'ChronicCond_Depression', \n",
        "                                                  'ChronicCond_Diabetes', 'ChronicCond_IschemicHeart', \n",
        "                                                  'ChronicCond_Osteoporasis', 'ChronicCond_rheumatoidarthritis',\n",
        "                                                  'ChronicCond_stroke' \n",
        "                                                  ]].sum()"
      ],
      "execution_count": null,
      "outputs": []
    },
    {
      "cell_type": "markdown",
      "metadata": {
        "id": "D-FCvJXN3GMx",
        "colab_type": "text"
      },
      "source": [
        "# Count number of records"
      ]
    },
    {
      "cell_type": "code",
      "metadata": {
        "id": "F8RXbIbv27lU",
        "colab_type": "code",
        "colab": {}
      },
      "source": [
        "df2 = Master_df[['BeneID', 'ClaimID']].groupby(Master_df['Provider']).nunique().reset_index()"
      ],
      "execution_count": null,
      "outputs": []
    },
    {
      "cell_type": "code",
      "metadata": {
        "id": "u0p3hpAe5FQg",
        "colab_type": "code",
        "colab": {}
      },
      "source": [
        "### Calculate mean\n",
        "df3 = Master_df.groupby(['Provider'], as_index = False)[['NoOfMonths_PartACov', 'NoOfMonths_PartBCov',\n",
        "                                                    'IPAnnualReimbursementAmt', 'IPAnnualDeductibleAmt',\n",
        "                                                    'OPAnnualReimbursementAmt', 'OPAnnualDeductibleAmt', 'Age']].mean()\n",
        "### Combine all together\n",
        "df = df2.merge(df1, on='Provider', how='left').merge(df3, on='Provider', how='left')\n",
        "print(df.shape)"
      ],
      "execution_count": null,
      "outputs": []
    },
    {
      "cell_type": "code",
      "metadata": {
        "id": "vO7lFBZ76agp",
        "colab_type": "code",
        "colab": {}
      },
      "source": [
        "df1 = df.merge(Train, on='Provider', how='left').drop(['Provider', ], axis = 1)\n",
        "df2 = df.merge(Train, on='Provider', how='left').drop(['Provider', 'PotentialFraud'], axis = 1)"
      ],
      "execution_count": null,
      "outputs": []
    },
    {
      "cell_type": "markdown",
      "metadata": {
        "id": "ITf_Mj7r7o5X",
        "colab_type": "text"
      },
      "source": [
        "# Correlation Matrix"
      ]
    },
    {
      "cell_type": "code",
      "metadata": {
        "id": "RzW3oX917Q6w",
        "colab_type": "code",
        "colab": {
          "base_uri": "https://localhost:8080/",
          "height": 1000
        },
        "outputId": "d6d33370-f130-4d90-c6d2-97bdc95464c2"
      },
      "source": [
        "plt.figure(figsize=(15, 15))\n",
        "plt.title('Correlation heatmap')\n",
        "sns.heatmap(df2.corr())\n",
        "plt.show()"
      ],
      "execution_count": null,
      "outputs": [
        {
          "output_type": "display_data",
          "data": {
            "image/png": "[encoded data removed]",
            "text/plain": [
              "<Figure size 1080x1080 with 2 Axes>"
            ]
          },
          "metadata": {
            "tags": []
          }
        }
      ]
    }
  ]
}