{
  "nbformat": 4,
  "nbformat_minor": 0,
  "metadata": {
    "colab": {
      "name": "HCL.ipynb",
      "provenance": [],
      "collapsed_sections": []
    },
    "kernelspec": {
      "name": "python3",
      "display_name": "Python 3"
    }
  },
  "cells": [
    {
      "cell_type": "code",
      "metadata": {
        "id": "D9ncKh09JbSw",
        "colab_type": "code",
        "colab": {
          "base_uri": "https://localhost:8080/",
          "height": 51
        },
        "outputId": "9e71f61b-b6af-497e-96ff-5deaa13e7f8d"
      },
      "source": [
        "import pandas as pd\n",
        "import numpy as np\n",
        "import matplotlib.pyplot as plt\n",
        "from sklearn import preprocessing\n",
        "import seaborn as sns\n",
        "\n",
        "from sklearn.model_selection import train_test_split, ShuffleSplit, learning_curve, GridSearchCV, KFold\n",
        "from sklearn.linear_model import LogisticRegression, Perceptron\n",
        "from sklearn.metrics import roc_curve, accuracy_score, confusion_matrix, classification_report, roc_auc_score, make_scorer, precision_recall_curve, average_precision_score \n",
        "from sklearn.svm import SVC\n",
        "from sklearn.preprocessing import StandardScaler\n",
        "\n",
        "from sklearn.ensemble import RandomForestClassifier, IsolationForest, VotingClassifier\n",
        "from sklearn.neural_network import MLPClassifier\n",
        "\n",
        "%matplotlib inline\n",
        "plt.style.use('ggplot')\n",
        "import io"
      ],
      "execution_count": 1,
      "outputs": [
        {
          "output_type": "stream",
          "text": [
            "/usr/local/lib/python3.6/dist-packages/statsmodels/tools/_testing.py:19: FutureWarning: pandas.util.testing is deprecated. Use the functions in the public API at pandas.testing instead.\n",
            "  import pandas.util.testing as tm\n"
          ],
          "name": "stderr"
        }
      ]
    },
    {
      "cell_type": "code",
      "metadata": {
        "id": "NBpYoGQZz24X",
        "colab_type": "code",
        "colab": {
          "base_uri": "https://localhost:8080/",
          "height": 119
        },
        "outputId": "90ab57ed-84cd-48b0-86ad-24d006677cd5"
      },
      "source": [
        "!git clone https://github.com/hastagAB/Healthcare-Fraud-Analysis.git"
      ],
      "execution_count": 2,
      "outputs": [
        {
          "output_type": "stream",
          "text": [
            "Cloning into 'Healthcare-Fraud-Analysis'...\n",
            "remote: Enumerating objects: 16, done.\u001b[K\n",
            "remote: Counting objects:   6% (1/16)\u001b[K\rremote: Counting objects:  12% (2/16)\u001b[K\rremote: Counting objects:  18% (3/16)\u001b[K\rremote: Counting objects:  25% (4/16)\u001b[K\rremote: Counting objects:  31% (5/16)\u001b[K\rremote: Counting objects:  37% (6/16)\u001b[K\rremote: Counting objects:  43% (7/16)\u001b[K\rremote: Counting objects:  50% (8/16)\u001b[K\rremote: Counting objects:  56% (9/16)\u001b[K\rremote: Counting objects:  62% (10/16)\u001b[K\rremote: Counting objects:  68% (11/16)\u001b[K\rremote: Counting objects:  75% (12/16)\u001b[K\rremote: Counting objects:  81% (13/16)\u001b[K\rremote: Counting objects:  87% (14/16)\u001b[K\rremote: Counting objects:  93% (15/16)\u001b[K\rremote: Counting objects: 100% (16/16)\u001b[K\rremote: Counting objects: 100% (16/16), done.\u001b[K\n",
            "remote: Compressing objects: 100% (12/12), done.\u001b[K\n",
            "remote: Total 16 (delta 3), reused 12 (delta 3), pack-reused 0\u001b[K\n",
            "Unpacking objects: 100% (16/16), done.\n"
          ],
          "name": "stdout"
        }
      ]
    },
    {
      "cell_type": "code",
      "metadata": {
        "id": "LHmkyP3kJ9Yj",
        "colab_type": "code",
        "colab": {}
      },
      "source": [
        "# Load Train Dataset\n",
        "Train = pd.read_csv(\"Healthcare-Fraud-Analysis/dataset/Train.csv\")\n",
        "Train_Beneficiary = pd.read_csv(\"Healthcare-Fraud-Analysis/dataset/Train_Beneficiary_Data.csv\")\n",
        "Train_Inpatient = pd.read_csv(\"Healthcare-Fraud-Analysis/dataset/Train_Inpatient_Data.csv\")\n",
        "Train_Outpatient = pd.read_csv(\"Healthcare-Fraud-Analysis/dataset/Train_Outpatient_Data.csv\")\n",
        "\n",
        "# Load Test Dataset\n",
        "Test = pd.read_csv(\"Healthcare-Fraud-Analysis/dataset/Test.csv\")\n",
        "Test_Beneficiary = pd.read_csv(\"Healthcare-Fraud-Analysis/dataset/Test_Beneficiary_Data.csv\")\n",
        "Test_Inpatient = pd.read_csv(\"Healthcare-Fraud-Analysis/dataset/Test_Inpatient_Data.csv\")\n",
        "Test_Outpatient = pd.read_csv(\"Healthcare-Fraud-Analysis/dataset/Test_Outpatient_Data.csv\")"
      ],
      "execution_count": 3,
      "outputs": []
    },
    {
      "cell_type": "code",
      "metadata": {
        "id": "Pp2yAD5p3boU",
        "colab_type": "code",
        "colab": {
          "base_uri": "https://localhost:8080/",
          "height": 224
        },
        "outputId": "54522ce2-aa88-43df-93da-bebde1e5ec1a"
      },
      "source": [
        "Train_Outpatient.head()"
      ],
      "execution_count": null,
      "outputs": [
        {
          "output_type": "execute_result",
          "data": {
            "text/html": [
              "<div>\n",
              "<style scoped>\n",
              "    .dataframe tbody tr th:only-of-type {\n",
              "        vertical-align: middle;\n",
              "    }\n",
              "\n",
              "    .dataframe tbody tr th {\n",
              "        vertical-align: top;\n",
              "    }\n",
              "\n",
              "    .dataframe thead th {\n",
              "        text-align: right;\n",
              "    }\n",
              "</style>\n",
              "<table border=\"1\" class=\"dataframe\">\n",
              "  <thead>\n",
              "    <tr style=\"text-align: right;\">\n",
              "      <th></th>\n",
              "      <th>BeneID</th>\n",
              "      <th>ClaimID</th>\n",
              "      <th>ClaimStartDt</th>\n",
              "      <th>ClaimEndDt</th>\n",
              "      <th>Provider</th>\n",
              "      <th>InscClaimAmtReimbursed</th>\n",
              "      <th>AttendingPhysician</th>\n",
              "      <th>OperatingPhysician</th>\n",
              "      <th>OtherPhysician</th>\n",
              "      <th>ClmDiagnosisCode_1</th>\n",
              "      <th>ClmDiagnosisCode_2</th>\n",
              "      <th>ClmDiagnosisCode_3</th>\n",
              "      <th>ClmDiagnosisCode_4</th>\n",
              "      <th>ClmDiagnosisCode_5</th>\n",
              "      <th>ClmDiagnosisCode_6</th>\n",
              "      <th>ClmDiagnosisCode_7</th>\n",
              "      <th>ClmDiagnosisCode_8</th>\n",
              "      <th>ClmDiagnosisCode_9</th>\n",
              "      <th>ClmDiagnosisCode_10</th>\n",
              "      <th>ClmProcedureCode_1</th>\n",
              "      <th>ClmProcedureCode_2</th>\n",
              "      <th>ClmProcedureCode_3</th>\n",
              "      <th>ClmProcedureCode_4</th>\n",
              "      <th>ClmProcedureCode_5</th>\n",
              "      <th>ClmProcedureCode_6</th>\n",
              "      <th>DeductibleAmtPaid</th>\n",
              "      <th>ClmAdmitDiagnosisCode</th>\n",
              "    </tr>\n",
              "  </thead>\n",
              "  <tbody>\n",
              "    <tr>\n",
              "      <th>0</th>\n",
              "      <td>BENE11002</td>\n",
              "      <td>CLM624349</td>\n",
              "      <td>2009-10-11</td>\n",
              "      <td>2009-10-11</td>\n",
              "      <td>PRV56011</td>\n",
              "      <td>30</td>\n",
              "      <td>PHY326117</td>\n",
              "      <td>NaN</td>\n",
              "      <td>NaN</td>\n",
              "      <td>78943</td>\n",
              "      <td>V5866</td>\n",
              "      <td>V1272</td>\n",
              "      <td>NaN</td>\n",
              "      <td>NaN</td>\n",
              "      <td>NaN</td>\n",
              "      <td>NaN</td>\n",
              "      <td>NaN</td>\n",
              "      <td>NaN</td>\n",
              "      <td>NaN</td>\n",
              "      <td>NaN</td>\n",
              "      <td>NaN</td>\n",
              "      <td>NaN</td>\n",
              "      <td>NaN</td>\n",
              "      <td>NaN</td>\n",
              "      <td>NaN</td>\n",
              "      <td>0</td>\n",
              "      <td>56409</td>\n",
              "    </tr>\n",
              "    <tr>\n",
              "      <th>1</th>\n",
              "      <td>BENE11003</td>\n",
              "      <td>CLM189947</td>\n",
              "      <td>2009-02-12</td>\n",
              "      <td>2009-02-12</td>\n",
              "      <td>PRV57610</td>\n",
              "      <td>80</td>\n",
              "      <td>PHY362868</td>\n",
              "      <td>NaN</td>\n",
              "      <td>NaN</td>\n",
              "      <td>6115</td>\n",
              "      <td>NaN</td>\n",
              "      <td>NaN</td>\n",
              "      <td>NaN</td>\n",
              "      <td>NaN</td>\n",
              "      <td>NaN</td>\n",
              "      <td>NaN</td>\n",
              "      <td>NaN</td>\n",
              "      <td>NaN</td>\n",
              "      <td>NaN</td>\n",
              "      <td>NaN</td>\n",
              "      <td>NaN</td>\n",
              "      <td>NaN</td>\n",
              "      <td>NaN</td>\n",
              "      <td>NaN</td>\n",
              "      <td>NaN</td>\n",
              "      <td>0</td>\n",
              "      <td>79380</td>\n",
              "    </tr>\n",
              "    <tr>\n",
              "      <th>2</th>\n",
              "      <td>BENE11003</td>\n",
              "      <td>CLM438021</td>\n",
              "      <td>2009-06-27</td>\n",
              "      <td>2009-06-27</td>\n",
              "      <td>PRV57595</td>\n",
              "      <td>10</td>\n",
              "      <td>PHY328821</td>\n",
              "      <td>NaN</td>\n",
              "      <td>NaN</td>\n",
              "      <td>2723</td>\n",
              "      <td>NaN</td>\n",
              "      <td>NaN</td>\n",
              "      <td>NaN</td>\n",
              "      <td>NaN</td>\n",
              "      <td>NaN</td>\n",
              "      <td>NaN</td>\n",
              "      <td>NaN</td>\n",
              "      <td>NaN</td>\n",
              "      <td>NaN</td>\n",
              "      <td>NaN</td>\n",
              "      <td>NaN</td>\n",
              "      <td>NaN</td>\n",
              "      <td>NaN</td>\n",
              "      <td>NaN</td>\n",
              "      <td>NaN</td>\n",
              "      <td>0</td>\n",
              "      <td>NaN</td>\n",
              "    </tr>\n",
              "    <tr>\n",
              "      <th>3</th>\n",
              "      <td>BENE11004</td>\n",
              "      <td>CLM121801</td>\n",
              "      <td>2009-01-06</td>\n",
              "      <td>2009-01-06</td>\n",
              "      <td>PRV56011</td>\n",
              "      <td>40</td>\n",
              "      <td>PHY334319</td>\n",
              "      <td>NaN</td>\n",
              "      <td>NaN</td>\n",
              "      <td>71988</td>\n",
              "      <td>NaN</td>\n",
              "      <td>NaN</td>\n",
              "      <td>NaN</td>\n",
              "      <td>NaN</td>\n",
              "      <td>NaN</td>\n",
              "      <td>NaN</td>\n",
              "      <td>NaN</td>\n",
              "      <td>NaN</td>\n",
              "      <td>NaN</td>\n",
              "      <td>NaN</td>\n",
              "      <td>NaN</td>\n",
              "      <td>NaN</td>\n",
              "      <td>NaN</td>\n",
              "      <td>NaN</td>\n",
              "      <td>NaN</td>\n",
              "      <td>0</td>\n",
              "      <td>NaN</td>\n",
              "    </tr>\n",
              "    <tr>\n",
              "      <th>4</th>\n",
              "      <td>BENE11004</td>\n",
              "      <td>CLM150998</td>\n",
              "      <td>2009-01-22</td>\n",
              "      <td>2009-01-22</td>\n",
              "      <td>PRV56011</td>\n",
              "      <td>200</td>\n",
              "      <td>PHY403831</td>\n",
              "      <td>NaN</td>\n",
              "      <td>NaN</td>\n",
              "      <td>82382</td>\n",
              "      <td>30000</td>\n",
              "      <td>72887</td>\n",
              "      <td>4280</td>\n",
              "      <td>7197</td>\n",
              "      <td>V4577</td>\n",
              "      <td>NaN</td>\n",
              "      <td>NaN</td>\n",
              "      <td>NaN</td>\n",
              "      <td>NaN</td>\n",
              "      <td>NaN</td>\n",
              "      <td>NaN</td>\n",
              "      <td>NaN</td>\n",
              "      <td>NaN</td>\n",
              "      <td>NaN</td>\n",
              "      <td>NaN</td>\n",
              "      <td>0</td>\n",
              "      <td>71947</td>\n",
              "    </tr>\n",
              "  </tbody>\n",
              "</table>\n",
              "</div>"
            ],
            "text/plain": [
              "      BeneID    ClaimID  ... DeductibleAmtPaid ClmAdmitDiagnosisCode\n",
              "0  BENE11002  CLM624349  ...                 0                 56409\n",
              "1  BENE11003  CLM189947  ...                 0                 79380\n",
              "2  BENE11003  CLM438021  ...                 0                   NaN\n",
              "3  BENE11004  CLM121801  ...                 0                   NaN\n",
              "4  BENE11004  CLM150998  ...                 0                 71947\n",
              "\n",
              "[5 rows x 27 columns]"
            ]
          },
          "metadata": {
            "tags": []
          },
          "execution_count": 4
        }
      ]
    },
    {
      "cell_type": "markdown",
      "metadata": {
        "id": "RpjPkvNPBdSj",
        "colab_type": "text"
      },
      "source": [
        "## Let's see how many providers are fraudulent"
      ]
    },
    {
      "cell_type": "code",
      "metadata": {
        "id": "fonzTLtqUALs",
        "colab_type": "code",
        "colab": {
          "base_uri": "https://localhost:8080/",
          "height": 414
        },
        "outputId": "77c0032b-934a-477b-998d-6d3cc0db9f3b"
      },
      "source": [
        "plt.title(\"Potential Fraud Test distribution\")\n",
        "Train.groupby( [\"PotentialFraud\"] ).Provider.count().plot(kind = \"bar\", figsize = (10,6))\n",
        "plt.xlabel('Status')\n",
        "plt.ylabel('Count')\n",
        "plt.show()"
      ],
      "execution_count": 4,
      "outputs": [
        {
          "output_type": "display_data",
          "data": {
            "image/png": "[encoded data removed]",
            "text/plain": [
              "<Figure size 720x432 with 1 Axes>"
            ]
          },
          "metadata": {
            "tags": [],
            "needs_background": "light"
          }
        }
      ]
    },
    {
      "cell_type": "markdown",
      "metadata": {
        "id": "4hiP3Szil6UV",
        "colab_type": "text"
      },
      "source": [
        "# INPATIENT\n",
        "\n",
        "# Inpatient Procedure Distribution"
      ]
    },
    {
      "cell_type": "code",
      "metadata": {
        "id": "mxN5RNNP-xKy",
        "colab_type": "code",
        "colab": {}
      },
      "source": [
        "procedures =  pd.DataFrame(columns = ['Procedures'])\n",
        "procedures['Procedures'] = pd.concat([\n",
        "                                          Train_Inpatient[\"ClmProcedureCode_1\"], \n",
        "                                          Train_Inpatient[\"ClmProcedureCode_2\"], \n",
        "                                          Train_Inpatient[\"ClmProcedureCode_3\"], \n",
        "                                          Train_Inpatient[\"ClmProcedureCode_4\"], \n",
        "                                          Train_Inpatient[\"ClmProcedureCode_5\"], \n",
        "                                          Train_Inpatient[\"ClmProcedureCode_6\"]\n",
        "                                          ], axis=0, sort=True).dropna()\n",
        "                            \n",
        "procedures.head(10)\n",
        "procedure_group = procedures['Procedures'].value_counts()\n",
        "\n",
        "procedure_g1 = procedure_group.to_frame()\n",
        "procedure_g1.columns = ['count']\n",
        "procedure_g1['Procedure'] = procedure_g1.index\n",
        "procedure_g1['Percentage'] = (procedure_g1['count']/sum(procedure_g1['count']))*100"
      ],
      "execution_count": 5,
      "outputs": []
    },
    {
      "cell_type": "code",
      "metadata": {
        "id": "56qvruAGbINH",
        "colab_type": "code",
        "colab": {
          "base_uri": "https://localhost:8080/",
          "height": 204
        },
        "outputId": "3818eabc-9710-4f99-9326-10dd23224ee0"
      },
      "source": [
        "procedure_g1.head(5)"
      ],
      "execution_count": null,
      "outputs": [
        {
          "output_type": "execute_result",
          "data": {
            "text/html": [
              "<div>\n",
              "<style scoped>\n",
              "    .dataframe tbody tr th:only-of-type {\n",
              "        vertical-align: middle;\n",
              "    }\n",
              "\n",
              "    .dataframe tbody tr th {\n",
              "        vertical-align: top;\n",
              "    }\n",
              "\n",
              "    .dataframe thead th {\n",
              "        text-align: right;\n",
              "    }\n",
              "</style>\n",
              "<table border=\"1\" class=\"dataframe\">\n",
              "  <thead>\n",
              "    <tr style=\"text-align: right;\">\n",
              "      <th></th>\n",
              "      <th>count</th>\n",
              "      <th>Procedure</th>\n",
              "      <th>Percentage</th>\n",
              "    </tr>\n",
              "  </thead>\n",
              "  <tbody>\n",
              "    <tr>\n",
              "      <th>4019.0</th>\n",
              "      <td>1953</td>\n",
              "      <td>4019.0</td>\n",
              "      <td>6.577529</td>\n",
              "    </tr>\n",
              "    <tr>\n",
              "      <th>9904.0</th>\n",
              "      <td>1137</td>\n",
              "      <td>9904.0</td>\n",
              "      <td>3.829314</td>\n",
              "    </tr>\n",
              "    <tr>\n",
              "      <th>2724.0</th>\n",
              "      <td>1047</td>\n",
              "      <td>2724.0</td>\n",
              "      <td>3.526202</td>\n",
              "    </tr>\n",
              "    <tr>\n",
              "      <th>8154.0</th>\n",
              "      <td>1021</td>\n",
              "      <td>8154.0</td>\n",
              "      <td>3.438637</td>\n",
              "    </tr>\n",
              "    <tr>\n",
              "      <th>66.0</th>\n",
              "      <td>894</td>\n",
              "      <td>66.0</td>\n",
              "      <td>3.010912</td>\n",
              "    </tr>\n",
              "  </tbody>\n",
              "</table>\n",
              "</div>"
            ],
            "text/plain": [
              "        count  Procedure  Percentage\n",
              "4019.0   1953     4019.0    6.577529\n",
              "9904.0   1137     9904.0    3.829314\n",
              "2724.0   1047     2724.0    3.526202\n",
              "8154.0   1021     8154.0    3.438637\n",
              "66.0      894       66.0    3.010912"
            ]
          },
          "metadata": {
            "tags": []
          },
          "execution_count": 73
        }
      ]
    },
    {
      "cell_type": "code",
      "metadata": {
        "id": "Jusocs1bajHk",
        "colab_type": "code",
        "colab": {
          "base_uri": "https://localhost:8080/",
          "height": 831
        },
        "outputId": "b9a9d5eb-6ecb-4c24-9ac9-6bf7daa3859f"
      },
      "source": [
        "plot_procedure = procedure_g1.head(30)\n",
        "\n",
        "fig = plt.figure(figsize=(25,10))\n",
        "ax = fig.add_axes([0,0,1,1])\n",
        "\n",
        "plot_procedure['Procedure'] = 'P' + plot_procedure['Procedure'].astype(str)\n",
        "plot_procedure.sort_values(by=['Percentage'])\n",
        "ax.bar(plot_procedure['Procedure'],plot_procedure['Percentage'], color='green')\n",
        "plt.show()"
      ],
      "execution_count": 6,
      "outputs": [
        {
          "output_type": "stream",
          "text": [
            "/usr/local/lib/python3.6/dist-packages/ipykernel_launcher.py:6: SettingWithCopyWarning: \n",
            "A value is trying to be set on a copy of a slice from a DataFrame.\n",
            "Try using .loc[row_indexer,col_indexer] = value instead\n",
            "\n",
            "See the caveats in the documentation: https://pandas.pydata.org/pandas-docs/stable/user_guide/indexing.html#returning-a-view-versus-a-copy\n",
            "  \n"
          ],
          "name": "stderr"
        },
        {
          "output_type": "display_data",
          "data": {
            "image/png": "[encoded data removed]",
            "text/plain": [
              "<Figure size 1800x720 with 1 Axes>"
            ]
          },
          "metadata": {
            "tags": [],
            "needs_background": "light"
          }
        }
      ]
    },
    {
      "cell_type": "markdown",
      "metadata": {
        "id": "oLCUADktl_iB",
        "colab_type": "text"
      },
      "source": [
        "# Inpatient Diagnosis Distribution"
      ]
    },
    {
      "cell_type": "code",
      "metadata": {
        "id": "sTrpODIwmIAU",
        "colab_type": "code",
        "colab": {}
      },
      "source": [
        "diagnosis =  pd.DataFrame(columns = ['diagnosis'])\n",
        "diagnosis['diagnosis'] = pd.concat([\n",
        "                                          Train_Inpatient[\"ClmDiagnosisCode_1\"], \n",
        "                                          Train_Inpatient[\"ClmDiagnosisCode_2\"], \n",
        "                                          Train_Inpatient[\"ClmDiagnosisCode_3\"], \n",
        "                                          Train_Inpatient[\"ClmDiagnosisCode_4\"],\n",
        "                                          Train_Inpatient[\"ClmDiagnosisCode_5\"],\n",
        "                                          Train_Inpatient[\"ClmDiagnosisCode_6\"],\n",
        "                                          Train_Inpatient[\"ClmDiagnosisCode_7\"],\n",
        "                                          Train_Inpatient[\"ClmDiagnosisCode_8\"], \n",
        "                                          Train_Inpatient[\"ClmDiagnosisCode_9\"], \n",
        "                                          Train_Inpatient[\"ClmDiagnosisCode_10\"]\n",
        "                                          ], axis=0, sort=True).dropna()\n",
        "                            \n",
        "diagnosis_group = diagnosis['diagnosis'].value_counts()\n",
        "\n",
        "diagnosis_g1 = diagnosis_group.to_frame()\n",
        "diagnosis_g1.columns = ['count']\n",
        "diagnosis_g1['diagnosis'] = diagnosis_g1.index\n",
        "diagnosis_g1['Percentage'] = (diagnosis_g1['count']/sum(diagnosis_g1['count']))*100"
      ],
      "execution_count": 7,
      "outputs": []
    },
    {
      "cell_type": "code",
      "metadata": {
        "id": "CMNSTfl0nyv2",
        "colab_type": "code",
        "colab": {
          "base_uri": "https://localhost:8080/",
          "height": 204
        },
        "outputId": "a42f9721-62bf-4628-80fd-285cd660f553"
      },
      "source": [
        "diagnosis_g1.head()"
      ],
      "execution_count": null,
      "outputs": [
        {
          "output_type": "execute_result",
          "data": {
            "text/html": [
              "<div>\n",
              "<style scoped>\n",
              "    .dataframe tbody tr th:only-of-type {\n",
              "        vertical-align: middle;\n",
              "    }\n",
              "\n",
              "    .dataframe tbody tr th {\n",
              "        vertical-align: top;\n",
              "    }\n",
              "\n",
              "    .dataframe thead th {\n",
              "        text-align: right;\n",
              "    }\n",
              "</style>\n",
              "<table border=\"1\" class=\"dataframe\">\n",
              "  <thead>\n",
              "    <tr style=\"text-align: right;\">\n",
              "      <th></th>\n",
              "      <th>count</th>\n",
              "      <th>diagnosis</th>\n",
              "      <th>Percentage</th>\n",
              "    </tr>\n",
              "  </thead>\n",
              "  <tbody>\n",
              "    <tr>\n",
              "      <th>4019</th>\n",
              "      <td>14153</td>\n",
              "      <td>4019</td>\n",
              "      <td>4.323798</td>\n",
              "    </tr>\n",
              "    <tr>\n",
              "      <th>2724</th>\n",
              "      <td>7340</td>\n",
              "      <td>2724</td>\n",
              "      <td>2.242399</td>\n",
              "    </tr>\n",
              "    <tr>\n",
              "      <th>25000</th>\n",
              "      <td>7334</td>\n",
              "      <td>25000</td>\n",
              "      <td>2.240566</td>\n",
              "    </tr>\n",
              "    <tr>\n",
              "      <th>41401</th>\n",
              "      <td>6442</td>\n",
              "      <td>41401</td>\n",
              "      <td>1.968057</td>\n",
              "    </tr>\n",
              "    <tr>\n",
              "      <th>4280</th>\n",
              "      <td>6190</td>\n",
              "      <td>4280</td>\n",
              "      <td>1.891070</td>\n",
              "    </tr>\n",
              "  </tbody>\n",
              "</table>\n",
              "</div>"
            ],
            "text/plain": [
              "       count diagnosis  Percentage\n",
              "4019   14153      4019    4.323798\n",
              "2724    7340      2724    2.242399\n",
              "25000   7334     25000    2.240566\n",
              "41401   6442     41401    1.968057\n",
              "4280    6190      4280    1.891070"
            ]
          },
          "metadata": {
            "tags": []
          },
          "execution_count": 75
        }
      ]
    },
    {
      "cell_type": "code",
      "metadata": {
        "id": "mdFP7HG7n2Gk",
        "colab_type": "code",
        "colab": {
          "base_uri": "https://localhost:8080/",
          "height": 831
        },
        "outputId": "67a0c69c-5bea-4e63-d824-beec93f04235"
      },
      "source": [
        "plot_diagnosis = diagnosis_g1.head(30)\n",
        "\n",
        "fig = plt.figure(figsize=(25,10))\n",
        "ax = fig.add_axes([0,0,1,1])\n",
        "\n",
        "plot_diagnosis['diagnosis'] = 'D' + plot_diagnosis['diagnosis'].astype(str)\n",
        "plot_diagnosis.sort_values(by=['Percentage'])\n",
        "ax.bar(plot_diagnosis['diagnosis'],plot_diagnosis['Percentage'], color='grey')\n",
        "plt.show()"
      ],
      "execution_count": 8,
      "outputs": [
        {
          "output_type": "stream",
          "text": [
            "/usr/local/lib/python3.6/dist-packages/ipykernel_launcher.py:6: SettingWithCopyWarning: \n",
            "A value is trying to be set on a copy of a slice from a DataFrame.\n",
            "Try using .loc[row_indexer,col_indexer] = value instead\n",
            "\n",
            "See the caveats in the documentation: https://pandas.pydata.org/pandas-docs/stable/user_guide/indexing.html#returning-a-view-versus-a-copy\n",
            "  \n"
          ],
          "name": "stderr"
        },
        {
          "output_type": "display_data",
          "data": {
            "image/png": "[encoded data removed]",
            "text/plain": [
              "<Figure size 1800x720 with 1 Axes>"
            ]
          },
          "metadata": {
            "tags": [],
            "needs_background": "light"
          }
        }
      ]
    },
    {
      "cell_type": "markdown",
      "metadata": {
        "id": "NPsuUCc0AuSJ",
        "colab_type": "text"
      },
      "source": [
        "# OUTPATIENT\n",
        "\n",
        "# Outpatient Procedure Distribution"
      ]
    },
    {
      "cell_type": "code",
      "metadata": {
        "id": "2kTaQdLwA_pI",
        "colab_type": "code",
        "colab": {}
      },
      "source": [
        "procedures1 =  pd.DataFrame(columns = ['Procedures'])\n",
        "procedures1['Procedures'] = pd.concat([\n",
        "                                          Train_Outpatient[\"ClmProcedureCode_1\"], \n",
        "                                          Train_Outpatient[\"ClmProcedureCode_2\"], \n",
        "                                          Train_Outpatient[\"ClmProcedureCode_3\"], \n",
        "                                          Train_Outpatient[\"ClmProcedureCode_4\"], \n",
        "                                          Train_Outpatient[\"ClmProcedureCode_5\"], \n",
        "                                          Train_Outpatient[\"ClmProcedureCode_6\"]\n",
        "                                          ], axis=0, sort=True).dropna()\n",
        "                            \n",
        "procedures1.head(10)\n",
        "procedure1_group = procedures1['Procedures'].value_counts()\n",
        "\n",
        "procedure_g2 = procedure1_group.to_frame()\n",
        "procedure_g2.columns = ['count']\n",
        "procedure_g2['Procedure'] = procedure_g2.index\n",
        "procedure_g2['Percentage'] = (procedure_g2['count']/sum(procedure_g2['count']))*100"
      ],
      "execution_count": 9,
      "outputs": []
    },
    {
      "cell_type": "code",
      "metadata": {
        "id": "7ZFNlDz2B8vn",
        "colab_type": "code",
        "colab": {
          "base_uri": "https://localhost:8080/",
          "height": 204
        },
        "outputId": "ac980cea-1aa9-47c6-a5c5-6e6befe137d2"
      },
      "source": [
        "procedure_g2.head()"
      ],
      "execution_count": null,
      "outputs": [
        {
          "output_type": "execute_result",
          "data": {
            "text/html": [
              "<div>\n",
              "<style scoped>\n",
              "    .dataframe tbody tr th:only-of-type {\n",
              "        vertical-align: middle;\n",
              "    }\n",
              "\n",
              "    .dataframe tbody tr th {\n",
              "        vertical-align: top;\n",
              "    }\n",
              "\n",
              "    .dataframe thead th {\n",
              "        text-align: right;\n",
              "    }\n",
              "</style>\n",
              "<table border=\"1\" class=\"dataframe\">\n",
              "  <thead>\n",
              "    <tr style=\"text-align: right;\">\n",
              "      <th></th>\n",
              "      <th>count</th>\n",
              "      <th>Procedure</th>\n",
              "      <th>Percentage</th>\n",
              "    </tr>\n",
              "  </thead>\n",
              "  <tbody>\n",
              "    <tr>\n",
              "      <th>9904.0</th>\n",
              "      <td>15</td>\n",
              "      <td>9904.0</td>\n",
              "      <td>7.352941</td>\n",
              "    </tr>\n",
              "    <tr>\n",
              "      <th>3722.0</th>\n",
              "      <td>8</td>\n",
              "      <td>3722.0</td>\n",
              "      <td>3.921569</td>\n",
              "    </tr>\n",
              "    <tr>\n",
              "      <th>4516.0</th>\n",
              "      <td>8</td>\n",
              "      <td>4516.0</td>\n",
              "      <td>3.921569</td>\n",
              "    </tr>\n",
              "    <tr>\n",
              "      <th>2724.0</th>\n",
              "      <td>7</td>\n",
              "      <td>2724.0</td>\n",
              "      <td>3.431373</td>\n",
              "    </tr>\n",
              "    <tr>\n",
              "      <th>66.0</th>\n",
              "      <td>7</td>\n",
              "      <td>66.0</td>\n",
              "      <td>3.431373</td>\n",
              "    </tr>\n",
              "  </tbody>\n",
              "</table>\n",
              "</div>"
            ],
            "text/plain": [
              "        count  Procedure  Percentage\n",
              "9904.0     15     9904.0    7.352941\n",
              "3722.0      8     3722.0    3.921569\n",
              "4516.0      8     4516.0    3.921569\n",
              "2724.0      7     2724.0    3.431373\n",
              "66.0        7       66.0    3.431373"
            ]
          },
          "metadata": {
            "tags": []
          },
          "execution_count": 7
        }
      ]
    },
    {
      "cell_type": "code",
      "metadata": {
        "id": "jq-6P-RPCRQQ",
        "colab_type": "code",
        "colab": {
          "base_uri": "https://localhost:8080/",
          "height": 831
        },
        "outputId": "d7ef9f2c-9b5b-40ec-cc06-54ad88c2a751"
      },
      "source": [
        "plot_procedure1 = procedure_g2.head(30)\n",
        "\n",
        "fig = plt.figure(figsize=(25,10))\n",
        "ax = fig.add_axes([0,0,1,1])\n",
        "\n",
        "plot_procedure1['Procedure'] = 'P' + plot_procedure1['Procedure'].astype(str)\n",
        "plot_procedure1.sort_values(by=['Percentage'])\n",
        "ax.bar(plot_procedure1['Procedure'],plot_procedure1['Percentage'], color='red')\n",
        "plt.show()"
      ],
      "execution_count": 10,
      "outputs": [
        {
          "output_type": "stream",
          "text": [
            "/usr/local/lib/python3.6/dist-packages/ipykernel_launcher.py:6: SettingWithCopyWarning: \n",
            "A value is trying to be set on a copy of a slice from a DataFrame.\n",
            "Try using .loc[row_indexer,col_indexer] = value instead\n",
            "\n",
            "See the caveats in the documentation: https://pandas.pydata.org/pandas-docs/stable/user_guide/indexing.html#returning-a-view-versus-a-copy\n",
            "  \n"
          ],
          "name": "stderr"
        },
        {
          "output_type": "display_data",
          "data": {
            "image/png": "[encoded data removed]",
            "text/plain": [
              "<Figure size 1800x720 with 1 Axes>"
            ]
          },
          "metadata": {
            "tags": [],
            "needs_background": "light"
          }
        }
      ]
    },
    {
      "cell_type": "markdown",
      "metadata": {
        "id": "Sk5wDeD5CtY7",
        "colab_type": "text"
      },
      "source": [
        "# Outpatient Diagnosis Distribution"
      ]
    },
    {
      "cell_type": "code",
      "metadata": {
        "id": "pwSeqK-bCxo5",
        "colab_type": "code",
        "colab": {}
      },
      "source": [
        "diagnosis1 =  pd.DataFrame(columns = ['diagnosis'])\n",
        "diagnosis1['diagnosis'] = pd.concat([\n",
        "                                          Train_Outpatient[\"ClmDiagnosisCode_1\"], \n",
        "                                          Train_Outpatient[\"ClmDiagnosisCode_2\"], \n",
        "                                          Train_Outpatient[\"ClmDiagnosisCode_3\"], \n",
        "                                          Train_Outpatient[\"ClmDiagnosisCode_4\"],\n",
        "                                          Train_Outpatient[\"ClmDiagnosisCode_5\"],\n",
        "                                          Train_Outpatient[\"ClmDiagnosisCode_6\"],\n",
        "                                          Train_Outpatient[\"ClmDiagnosisCode_7\"],\n",
        "                                          Train_Outpatient[\"ClmDiagnosisCode_8\"], \n",
        "                                          Train_Outpatient[\"ClmDiagnosisCode_9\"], \n",
        "                                          Train_Outpatient[\"ClmDiagnosisCode_10\"]\n",
        "                                          ], axis=0, sort=True).dropna()\n",
        "                            \n",
        "diagnosis_group1 = diagnosis1['diagnosis'].value_counts()\n",
        "\n",
        "diagnosis_g2 = diagnosis_group1.to_frame()\n",
        "diagnosis_g2.columns = ['count']\n",
        "diagnosis_g2['diagnosis'] = diagnosis_g2.index\n",
        "diagnosis_g2['Percentage'] = (diagnosis_g2['count']/sum(diagnosis_g2['count']))*100"
      ],
      "execution_count": 11,
      "outputs": []
    },
    {
      "cell_type": "code",
      "metadata": {
        "id": "MnbK1U2zDUMq",
        "colab_type": "code",
        "colab": {
          "base_uri": "https://localhost:8080/",
          "height": 831
        },
        "outputId": "da59aecf-6f0a-4946-9c7f-e01f2e35fccc"
      },
      "source": [
        "plot_diagnosis1 = diagnosis_g2.head(30)\n",
        "\n",
        "fig = plt.figure(figsize=(25,10),)\n",
        "ax = fig.add_axes([0,0,1,1])\n",
        "\n",
        "plot_diagnosis1['diagnosis'] = 'D' + plot_diagnosis1['diagnosis'].astype(str)\n",
        "plot_diagnosis1.sort_values(by=['Percentage'])\n",
        "ax.bar(plot_diagnosis1['diagnosis'],plot_diagnosis1['Percentage'], color='blue')\n",
        "plt.show()"
      ],
      "execution_count": 12,
      "outputs": [
        {
          "output_type": "stream",
          "text": [
            "/usr/local/lib/python3.6/dist-packages/ipykernel_launcher.py:6: SettingWithCopyWarning: \n",
            "A value is trying to be set on a copy of a slice from a DataFrame.\n",
            "Try using .loc[row_indexer,col_indexer] = value instead\n",
            "\n",
            "See the caveats in the documentation: https://pandas.pydata.org/pandas-docs/stable/user_guide/indexing.html#returning-a-view-versus-a-copy\n",
            "  \n"
          ],
          "name": "stderr"
        },
        {
          "output_type": "display_data",
          "data": {
            "image/png": "[encoded data removed]",
            "text/plain": [
              "<Figure size 1800x720 with 1 Axes>"
            ]
          },
          "metadata": {
            "tags": [],
            "needs_background": "light"
          }
        }
      ]
    },
    {
      "cell_type": "markdown",
      "metadata": {
        "id": "dRt8_wtpoDNx",
        "colab_type": "text"
      },
      "source": [
        "# common procedures and diagnosis codes performed by the potential fradulent providers"
      ]
    },
    {
      "cell_type": "code",
      "metadata": {
        "id": "3yFyAb0Hn76F",
        "colab_type": "code",
        "colab": {
          "base_uri": "https://localhost:8080/",
          "height": 34
        },
        "outputId": "0692c8d8-6d0c-4dfa-d489-91ea559471fd"
      },
      "source": [
        "len(Train_Inpatient)"
      ],
      "execution_count": 13,
      "outputs": [
        {
          "output_type": "execute_result",
          "data": {
            "text/plain": [
              "40474"
            ]
          },
          "metadata": {
            "tags": []
          },
          "execution_count": 13
        }
      ]
    },
    {
      "cell_type": "code",
      "metadata": {
        "id": "HMjjYyyVokWC",
        "colab_type": "code",
        "colab": {
          "base_uri": "https://localhost:8080/",
          "height": 34
        },
        "outputId": "63532b9e-b1c0-4a6d-b231-296acb65712a"
      },
      "source": [
        "Train_fraud =  pd.DataFrame(columns = ['PotentialFraud', 'Provider'])\n",
        "Train_fraud = Train.loc[(Train['PotentialFraud'] == 'Yes')]\n",
        "fraud_provider_ip_df = pd.merge(Train_Inpatient, Train_fraud, how='inner', on='Provider')\n",
        "len(fraud_provider_ip_df)"
      ],
      "execution_count": 14,
      "outputs": [
        {
          "output_type": "execute_result",
          "data": {
            "text/plain": [
              "23402"
            ]
          },
          "metadata": {
            "tags": []
          },
          "execution_count": 14
        }
      ]
    },
    {
      "cell_type": "code",
      "metadata": {
        "id": "bNGFPWXmoyX2",
        "colab_type": "code",
        "colab": {
          "base_uri": "https://localhost:8080/",
          "height": 34
        },
        "outputId": "b5214fd1-e66f-4f8e-fa68-232c64c6e408"
      },
      "source": [
        "print((len(fraud_provider_ip_df)/len(Train_Inpatient)) * 100, ' %')"
      ],
      "execution_count": 15,
      "outputs": [
        {
          "output_type": "stream",
          "text": [
            "57.81983495577408  %\n"
          ],
          "name": "stdout"
        }
      ]
    },
    {
      "cell_type": "markdown",
      "metadata": {
        "id": "PnQQ9Xoyrhic",
        "colab_type": "text"
      },
      "source": [
        "Around 58% potential fradulent activities for **Inpatient**"
      ]
    },
    {
      "cell_type": "code",
      "metadata": {
        "id": "9usNcvdorpO6",
        "colab_type": "code",
        "colab": {
          "base_uri": "https://localhost:8080/",
          "height": 34
        },
        "outputId": "b38d6fb8-0fb8-4efa-c209-fce9052d3b48"
      },
      "source": [
        "len(Train_Outpatient)\n",
        "fraud_provider_op_df = pd.merge(Train_Outpatient, Train_fraud, how='inner', on='Provider')\n",
        "len(fraud_provider_op_df)"
      ],
      "execution_count": 16,
      "outputs": [
        {
          "output_type": "execute_result",
          "data": {
            "text/plain": [
              "189394"
            ]
          },
          "metadata": {
            "tags": []
          },
          "execution_count": 16
        }
      ]
    },
    {
      "cell_type": "code",
      "metadata": {
        "id": "4-mwEfr-r9sb",
        "colab_type": "code",
        "colab": {
          "base_uri": "https://localhost:8080/",
          "height": 34
        },
        "outputId": "95fa70d8-f8ac-4633-96ae-ee1a2f87ca80"
      },
      "source": [
        "print((len(fraud_provider_op_df)/len(Train_Outpatient))*100, ' %')"
      ],
      "execution_count": 18,
      "outputs": [
        {
          "output_type": "stream",
          "text": [
            "36.58112130290089  %\n"
          ],
          "name": "stdout"
        }
      ]
    },
    {
      "cell_type": "markdown",
      "metadata": {
        "id": "69zGdwAesNih",
        "colab_type": "text"
      },
      "source": [
        "Around 36% potential fradulent activities for **Outpatient**"
      ]
    },
    {
      "cell_type": "markdown",
      "metadata": {
        "id": "tIDz8I4TxkKA",
        "colab_type": "text"
      },
      "source": [
        "# INPATIENT\n",
        "\n",
        "## Procedure"
      ]
    },
    {
      "cell_type": "code",
      "metadata": {
        "id": "aeOChv-osRJL",
        "colab_type": "code",
        "colab": {}
      },
      "source": [
        "procedures2 =  pd.DataFrame(columns = ['Procedures'])\n",
        "procedures2['Procedures'] = pd.concat([\n",
        "                                      fraud_provider_ip_df[\"ClmProcedureCode_1\"], \n",
        "                                      fraud_provider_ip_df[\"ClmProcedureCode_2\"], \n",
        "                                      fraud_provider_ip_df[\"ClmProcedureCode_3\"], \n",
        "                                      fraud_provider_ip_df[\"ClmProcedureCode_4\"], \n",
        "                                      fraud_provider_ip_df[\"ClmProcedureCode_5\"], \n",
        "                                      fraud_provider_ip_df[\"ClmProcedureCode_6\"]\n",
        "                        ], axis=0, sort=True).dropna()\n",
        "\n",
        "procedures2['Procedures'].head(10)\n",
        "grouped_F_procedure = procedures2['Procedures'].value_counts()"
      ],
      "execution_count": 19,
      "outputs": []
    },
    {
      "cell_type": "code",
      "metadata": {
        "id": "GywsDQHts_IN",
        "colab_type": "code",
        "colab": {}
      },
      "source": [
        "grouped_F_procedure2 = grouped_F_procedure.to_frame()\n",
        "grouped_F_procedure2.columns = ['count']\n",
        "grouped_F_procedure2['Procedure'] = grouped_F_procedure2.index\n",
        "grouped_F_procedure2['Percentage'] = (grouped_F_procedure2['count']/sum(grouped_F_procedure2['count']))*100"
      ],
      "execution_count": 20,
      "outputs": []
    },
    {
      "cell_type": "code",
      "metadata": {
        "id": "1cq9_P74tXrx",
        "colab_type": "code",
        "colab": {
          "base_uri": "https://localhost:8080/",
          "height": 831
        },
        "outputId": "1308995a-0103-4daa-eab4-dcaa3a5553d7"
      },
      "source": [
        "plot_F_procedure = grouped_F_procedure2.head(20)\n",
        "\n",
        "fig = plt.figure(figsize=(25,10),)\n",
        "ax = fig.add_axes([0,0,1,1])\n",
        "\n",
        "plot_F_procedure['Procedure'] = 'P' + plot_F_procedure['Procedure'].astype(str)\n",
        "plot_F_procedure.sort_values(by=['Percentage'])\n",
        "ax.bar(plot_F_procedure['Procedure'],plot_F_procedure['Percentage'], color='green')\n",
        "plt.show()"
      ],
      "execution_count": 23,
      "outputs": [
        {
          "output_type": "stream",
          "text": [
            "/usr/local/lib/python3.6/dist-packages/ipykernel_launcher.py:6: SettingWithCopyWarning: \n",
            "A value is trying to be set on a copy of a slice from a DataFrame.\n",
            "Try using .loc[row_indexer,col_indexer] = value instead\n",
            "\n",
            "See the caveats in the documentation: https://pandas.pydata.org/pandas-docs/stable/user_guide/indexing.html#returning-a-view-versus-a-copy\n",
            "  \n"
          ],
          "name": "stderr"
        },
        {
          "output_type": "display_data",
          "data": {
            "image/png": "[encoded data removed]",
            "text/plain": [
              "<Figure size 1800x720 with 1 Axes>"
            ]
          },
          "metadata": {
            "tags": [],
            "needs_background": "light"
          }
        }
      ]
    },
    {
      "cell_type": "markdown",
      "metadata": {
        "id": "cEQJYGdVxgVQ",
        "colab_type": "text"
      },
      "source": [
        "## Diagnosis"
      ]
    },
    {
      "cell_type": "code",
      "metadata": {
        "id": "7WkXDoFNwO5x",
        "colab_type": "code",
        "colab": {}
      },
      "source": [
        "diagnosis2 = pd.DataFrame(columns = ['Diagnosis'])\n",
        "diagnosis2['Diagnosis'] = pd.concat([\n",
        "                                        fraud_provider_ip_df[\"ClmDiagnosisCode_1\"], \n",
        "                                        fraud_provider_ip_df[\"ClmDiagnosisCode_2\"], \n",
        "                                        fraud_provider_ip_df[\"ClmDiagnosisCode_3\"], \n",
        "                                        fraud_provider_ip_df[\"ClmDiagnosisCode_4\"], \n",
        "                                        fraud_provider_ip_df[\"ClmDiagnosisCode_5\"], \n",
        "                                        fraud_provider_ip_df[\"ClmDiagnosisCode_6\"], \n",
        "                                        fraud_provider_ip_df[\"ClmDiagnosisCode_7\"],  \n",
        "                                        fraud_provider_ip_df[\"ClmDiagnosisCode_8\"], \n",
        "                                        fraud_provider_ip_df[\"ClmDiagnosisCode_9\"], \n",
        "                                        fraud_provider_ip_df[\"ClmDiagnosisCode_10\"]\n",
        "                                        ], axis=0, sort=True).dropna()\n",
        "diagnosis2['Diagnosis'].head(10)\n",
        "grouped_F_diagnosis = diagnosis2['Diagnosis'].value_counts()"
      ],
      "execution_count": 24,
      "outputs": []
    },
    {
      "cell_type": "code",
      "metadata": {
        "id": "TwMb7NpjwrVY",
        "colab_type": "code",
        "colab": {}
      },
      "source": [
        "grouped_F_diagnosis2 = grouped_F_diagnosis.to_frame()\n",
        "grouped_F_diagnosis2.columns = ['count']\n",
        "grouped_F_diagnosis2['Diagnosis'] = grouped_F_diagnosis2.index\n",
        "grouped_F_diagnosis2['Percentage'] = (grouped_F_diagnosis2['count']/sum(grouped_F_diagnosis2['count']))*100"
      ],
      "execution_count": 25,
      "outputs": []
    },
    {
      "cell_type": "code",
      "metadata": {
        "id": "TWc6EbJzw-MV",
        "colab_type": "code",
        "colab": {
          "base_uri": "https://localhost:8080/",
          "height": 831
        },
        "outputId": "c4f4b3d9-e754-4661-f3df-8f1785414dbd"
      },
      "source": [
        "plot_F_diagnosis = grouped_F_diagnosis2.head(20)\n",
        "\n",
        "fig = plt.figure(figsize=(25,10),)\n",
        "ax = fig.add_axes([0,0,1,1])\n",
        "\n",
        "plot_F_diagnosis['Diagnosis'] = 'D' + plot_F_diagnosis['Diagnosis'].astype(str)\n",
        "plot_F_diagnosis.sort_values(by=['Percentage'])\n",
        "ax.bar(plot_F_diagnosis['Diagnosis'],plot_F_diagnosis['Percentage'], color='grey')\n",
        "plt.show()"
      ],
      "execution_count": 26,
      "outputs": [
        {
          "output_type": "stream",
          "text": [
            "/usr/local/lib/python3.6/dist-packages/ipykernel_launcher.py:6: SettingWithCopyWarning: \n",
            "A value is trying to be set on a copy of a slice from a DataFrame.\n",
            "Try using .loc[row_indexer,col_indexer] = value instead\n",
            "\n",
            "See the caveats in the documentation: https://pandas.pydata.org/pandas-docs/stable/user_guide/indexing.html#returning-a-view-versus-a-copy\n",
            "  \n"
          ],
          "name": "stderr"
        },
        {
          "output_type": "display_data",
          "data": {
            "image/png": "[encoded data removed]",
            "text/plain": [
              "<Figure size 1800x720 with 1 Axes>"
            ]
          },
          "metadata": {
            "tags": [],
            "needs_background": "light"
          }
        }
      ]
    },
    {
      "cell_type": "markdown",
      "metadata": {
        "id": "OhUC-iaIxZjA",
        "colab_type": "text"
      },
      "source": [
        "# OUTPATIENT\n",
        "\n",
        "## Procedure"
      ]
    },
    {
      "cell_type": "code",
      "metadata": {
        "id": "ITkiRCzcxoAk",
        "colab_type": "code",
        "colab": {}
      },
      "source": [
        "procedures2 =  pd.DataFrame(columns = ['Procedures'])\n",
        "procedures2['Procedures'] = pd.concat([\n",
        "                                             fraud_provider_op_df[\"ClmProcedureCode_1\"], \n",
        "                                             fraud_provider_op_df[\"ClmProcedureCode_2\"], \n",
        "                                             fraud_provider_op_df[\"ClmProcedureCode_3\"], \n",
        "                                             fraud_provider_op_df[\"ClmProcedureCode_4\"], \n",
        "                                             fraud_provider_op_df[\"ClmProcedureCode_5\"], \n",
        "                                             fraud_provider_op_df[\"ClmProcedureCode_6\"]\n",
        "                                             ], axis=0, sort=True).dropna()\n",
        "procedures2['Procedures'].head(10)\n",
        "grouped_F_procedure2 = procedures2['Procedures'].value_counts()"
      ],
      "execution_count": 27,
      "outputs": []
    },
    {
      "cell_type": "code",
      "metadata": {
        "id": "nFsRM0UgyHy5",
        "colab_type": "code",
        "colab": {}
      },
      "source": [
        "grouped_F_procedure_opdf2 = grouped_F_procedure2.to_frame()\n",
        "grouped_F_procedure_opdf2.columns = ['count']\n",
        "grouped_F_procedure_opdf2['Procedure'] = grouped_F_procedure_opdf2.index\n",
        "grouped_F_procedure_opdf2['Percentage'] = (grouped_F_procedure_opdf2['count']/sum(grouped_F_procedure_opdf2['count']))*100"
      ],
      "execution_count": 28,
      "outputs": []
    },
    {
      "cell_type": "code",
      "metadata": {
        "id": "LpvWm-Wzy3RF",
        "colab_type": "code",
        "colab": {
          "base_uri": "https://localhost:8080/",
          "height": 831
        },
        "outputId": "dcbeff5c-cbac-4f41-903b-7b78750e222c"
      },
      "source": [
        "\n",
        "plot_F_procedure_opdf1 = grouped_F_procedure_opdf2.head(20)\n",
        "\n",
        "fig = plt.figure(figsize=(25,10),)\n",
        "ax = fig.add_axes([0,0,1,1])\n",
        "\n",
        "plot_F_procedure_opdf1['Procedure'] = 'P' + plot_F_procedure_opdf1['Procedure'].astype(str)\n",
        "plot_F_procedure_opdf1.sort_values(by=['Percentage'])\n",
        "ax.bar(plot_F_procedure_opdf1['Procedure'],plot_F_procedure_opdf1['Percentage'], color='red')\n",
        "plt.show()"
      ],
      "execution_count": 32,
      "outputs": [
        {
          "output_type": "stream",
          "text": [
            "/usr/local/lib/python3.6/dist-packages/ipykernel_launcher.py:7: SettingWithCopyWarning: \n",
            "A value is trying to be set on a copy of a slice from a DataFrame.\n",
            "Try using .loc[row_indexer,col_indexer] = value instead\n",
            "\n",
            "See the caveats in the documentation: https://pandas.pydata.org/pandas-docs/stable/user_guide/indexing.html#returning-a-view-versus-a-copy\n",
            "  import sys\n"
          ],
          "name": "stderr"
        },
        {
          "output_type": "display_data",
          "data": {
            "image/png": "[encoded data removed]",
            "text/plain": [
              "<Figure size 1800x720 with 1 Axes>"
            ]
          },
          "metadata": {
            "tags": [],
            "needs_background": "light"
          }
        }
      ]
    },
    {
      "cell_type": "markdown",
      "metadata": {
        "id": "ZneNmEys2Tcz",
        "colab_type": "text"
      },
      "source": [
        "# Diagnosis"
      ]
    },
    {
      "cell_type": "code",
      "metadata": {
        "id": "iTy8H4sB2Vc9",
        "colab_type": "code",
        "colab": {}
      },
      "source": [
        "diagnosis2 = pd.DataFrame(columns = ['Diagnosis'])\n",
        "diagnosis2['Diagnosis'] = pd.concat([\n",
        "                                           fraud_provider_op_df[\"ClmDiagnosisCode_1\"], \n",
        "                                           fraud_provider_op_df[\"ClmDiagnosisCode_2\"], \n",
        "                                           fraud_provider_op_df[\"ClmDiagnosisCode_3\"], \n",
        "                                           fraud_provider_op_df[\"ClmDiagnosisCode_4\"], \n",
        "                                           fraud_provider_op_df[\"ClmDiagnosisCode_5\"], \n",
        "                                           fraud_provider_op_df[\"ClmDiagnosisCode_6\"], \n",
        "                                           fraud_provider_op_df[\"ClmDiagnosisCode_7\"],  \n",
        "                                           fraud_provider_op_df[\"ClmDiagnosisCode_8\"], \n",
        "                                           fraud_provider_op_df[\"ClmDiagnosisCode_9\"], \n",
        "                                           fraud_provider_op_df[\"ClmDiagnosisCode_10\"]\n",
        "                                           ], axis=0, sort=True).dropna()\n",
        "diagnosis2['Diagnosis'].head(10)\n",
        "grouped_F_diagnosis2 = diagnosis2['Diagnosis'].value_counts()"
      ],
      "execution_count": 30,
      "outputs": []
    },
    {
      "cell_type": "code",
      "metadata": {
        "id": "tRNyh44a2vQA",
        "colab_type": "code",
        "colab": {}
      },
      "source": [
        "grouped_F_diagnosis_opdf2 = grouped_F_diagnosis2.to_frame()\n",
        "grouped_F_diagnosis_opdf2.columns = ['count']\n",
        "grouped_F_diagnosis_opdf2['Diagnosis'] = grouped_F_diagnosis_opdf2.index\n",
        "grouped_F_diagnosis_opdf2['Percentage'] = (grouped_F_diagnosis_opdf2['count']/sum(grouped_F_diagnosis_opdf2['count']))*100"
      ],
      "execution_count": 31,
      "outputs": []
    },
    {
      "cell_type": "code",
      "metadata": {
        "id": "YWNjj19-25yp",
        "colab_type": "code",
        "colab": {
          "base_uri": "https://localhost:8080/",
          "height": 831
        },
        "outputId": "b1ce2d41-ebe0-4782-a81f-453557b05afc"
      },
      "source": [
        "plot_F_diagnosis_opdf1 = grouped_F_diagnosis_opdf2.head(20)\n",
        "\n",
        "fig = plt.figure(figsize=(25,10),)\n",
        "ax = fig.add_axes([0,0,1,1])\n",
        "\n",
        "plot_F_diagnosis_opdf1['Diagnosis'] = 'D' + plot_F_diagnosis_opdf1['Diagnosis'].astype(str)\n",
        "plot_F_diagnosis_opdf1.sort_values(by=['Percentage'])\n",
        "ax.bar(plot_F_diagnosis_opdf1['Diagnosis'],plot_F_diagnosis_opdf1['Percentage'], color='blue')\n",
        "plt.show()"
      ],
      "execution_count": 34,
      "outputs": [
        {
          "output_type": "stream",
          "text": [
            "/usr/local/lib/python3.6/dist-packages/ipykernel_launcher.py:6: SettingWithCopyWarning: \n",
            "A value is trying to be set on a copy of a slice from a DataFrame.\n",
            "Try using .loc[row_indexer,col_indexer] = value instead\n",
            "\n",
            "See the caveats in the documentation: https://pandas.pydata.org/pandas-docs/stable/user_guide/indexing.html#returning-a-view-versus-a-copy\n",
            "  \n"
          ],
          "name": "stderr"
        },
        {
          "output_type": "display_data",
          "data": {
            "image/png": "[encoded data removed]",
            "text/plain": [
              "<Figure size 1800x720 with 1 Axes>"
            ]
          },
          "metadata": {
            "tags": [],
            "needs_background": "light"
          }
        }
      ]
    },
    {
      "cell_type": "markdown",
      "metadata": {
        "id": "zCPqdGht4AoU",
        "colab_type": "text"
      },
      "source": [
        "# States having the highest number of potential frauds"
      ]
    },
    {
      "cell_type": "code",
      "metadata": {
        "id": "VXMdcAeg4FQw",
        "colab_type": "code",
        "colab": {}
      },
      "source": [
        "fraud_beneficiary_ip_op_df = pd.merge(Train_Beneficiary, fraud_provider_ip_df, how='inner', on='BeneID')\n",
        "fraud_beneficiary_ip_op_df = pd.merge(Train_Beneficiary, fraud_provider_op_df, how='inner', on='BeneID')\n",
        "Train_F_Beneficiary_grouped = fraud_beneficiary_ip_op_df['State'].value_counts()\n",
        "Train_F_Beneficiary_grouped1 = Train_F_Beneficiary_grouped.to_frame()\n",
        "Train_F_Beneficiary_grouped1['Count'] =  Train_F_Beneficiary_grouped1['State']\n",
        "Train_F_Beneficiary_grouped1['STATE'] = Train_F_Beneficiary_grouped1.index\n",
        "Train_F_Beneficiary_grouped1 = Train_F_Beneficiary_grouped1.drop(['State'], axis = 1)"
      ],
      "execution_count": 42,
      "outputs": []
    },
    {
      "cell_type": "code",
      "metadata": {
        "id": "SugZeNCB4OtE",
        "colab_type": "code",
        "colab": {
          "base_uri": "https://localhost:8080/",
          "height": 719
        },
        "outputId": "a380db62-f94b-49b9-f704-83404b7ec2d6"
      },
      "source": [
        "Train_F_Beneficiary_grouped1 = Train_F_Beneficiary_grouped1.head(20)\n",
        "\n",
        "fig = plt.figure(figsize=(25,10),)\n",
        "ax = fig.add_axes([0,0,1,1])\n",
        "\n",
        "Train_F_Beneficiary_grouped1['STATE'] = 'S' + Train_F_Beneficiary_grouped1['STATE'].astype(str)\n",
        "ax.bar(Train_F_Beneficiary_grouped1['STATE'],Train_F_Beneficiary_grouped1['Count'], color='gold')\n",
        "plt.show()"
      ],
      "execution_count": 44,
      "outputs": [
        {
          "output_type": "display_data",
          "data": {
            "image/png": "[encoded data removed]",
            "text/plain": [
              "<Figure size 1800x720 with 1 Axes>"
            ]
          },
          "metadata": {
            "tags": [],
            "needs_background": "light"
          }
        }
      ]
    },
    {
      "cell_type": "markdown",
      "metadata": {
        "id": "gKoq2tf96Bqa",
        "colab_type": "text"
      },
      "source": [
        "# Age distribution for the probable fradulent activites "
      ]
    },
    {
      "cell_type": "code",
      "metadata": {
        "id": "tqecViny56Ob",
        "colab_type": "code",
        "colab": {
          "base_uri": "https://localhost:8080/",
          "height": 700
        },
        "outputId": "04392517-63bf-48c7-f7a0-8ed069c3e564"
      },
      "source": [
        "import seaborn as sns\n",
        "\n",
        "fraud_beneficiary_ip_op_df['DOB'] =  pd.to_datetime(fraud_beneficiary_ip_op_df['DOB'], format='%Y-%m-%d')  \n",
        "now = pd.to_datetime('2009-12-01' , format = '%Y-%m-%d') # Assuming this is 2009 data as the last recorded death is for 2009\n",
        "fraud_beneficiary_ip_op_df['DOB'] = fraud_beneficiary_ip_op_df['DOB'].where(fraud_beneficiary_ip_op_df['DOB'] < now, fraud_beneficiary_ip_op_df['DOB'] -  np.timedelta64(100, 'Y'))   # 2\n",
        "fraud_beneficiary_ip_op_df['age'] = (now - fraud_beneficiary_ip_op_df['DOB']).astype('<m8[Y]')    # 3\n",
        "ax = fraud_beneficiary_ip_op_df['age'].plot.hist(bins=20, alpha=0.5, figsize=(14, 12), edgecolor='k')"
      ],
      "execution_count": 47,
      "outputs": [
        {
          "output_type": "display_data",
          "data": {
            "image/png": "[encoded data removed]",
            "text/plain": [
              "<Figure size 1008x864 with 1 Axes>"
            ]
          },
          "metadata": {
            "tags": [],
            "needs_background": "light"
          }
        }
      ]
    },
    {
      "cell_type": "markdown",
      "metadata": {
        "id": "3rc_dmp46lg0",
        "colab_type": "text"
      },
      "source": [
        "# Age distribution for Whole Inpatient data\n"
      ]
    },
    {
      "cell_type": "code",
      "metadata": {
        "id": "XH_ru9zU6c8S",
        "colab_type": "code",
        "colab": {
          "base_uri": "https://localhost:8080/",
          "height": 700
        },
        "outputId": "7b6f8cf5-bc9a-42c5-adfb-03fd3d4a8399"
      },
      "source": [
        "Train_Beneficiary['DOB'] =  pd.to_datetime(Train_Beneficiary['DOB'], format='%Y-%m-%d')  \n",
        "now = pd.to_datetime('2009-12-01' , format = '%Y-%m-%d') # Assuming this is 2009 data as the last recorded death is for 2009\n",
        "Train_Beneficiary['DOB'] = Train_Beneficiary['DOB'].where(Train_Beneficiary['DOB'] < now, Train_Beneficiary['DOB'] -  np.timedelta64(100, 'Y'))   # 2\n",
        "Train_Beneficiary['age'] = (now - Train_Beneficiary['DOB']).astype('<m8[Y]')    # 3\n",
        "ax = Train_Beneficiary['age'].plot.hist(bins=20, alpha=0.5, figsize=(14, 12), edgecolor='b')"
      ],
      "execution_count": 49,
      "outputs": [
        {
          "output_type": "display_data",
          "data": {
            "image/png": "[encoded data removed]",
            "text/plain": [
              "<Figure size 1008x864 with 1 Axes>"
            ]
          },
          "metadata": {
            "tags": [],
            "needs_background": "light"
          }
        }
      ]
    },
    {
      "cell_type": "markdown",
      "metadata": {
        "id": "cTZHgAQ862op",
        "colab_type": "text"
      },
      "source": [
        "# Cost Distribution for INPATIENT data"
      ]
    },
    {
      "cell_type": "code",
      "metadata": {
        "id": "__n0XPwo7EOx",
        "colab_type": "code",
        "colab": {
          "base_uri": "https://localhost:8080/",
          "height": 700
        },
        "outputId": "3c86ea57-9bda-403c-bbc6-b89f3d16f2f8"
      },
      "source": [
        "ax = Train_Inpatient['InscClaimAmtReimbursed'].plot.hist(bins=20, alpha=0.5, figsize=(14, 12), facecolor='g', edgecolor='k')"
      ],
      "execution_count": 51,
      "outputs": [
        {
          "output_type": "display_data",
          "data": {
            "image/png": "[encoded data removed]",
            "text/plain": [
              "<Figure size 1008x864 with 1 Axes>"
            ]
          },
          "metadata": {
            "tags": [],
            "needs_background": "light"
          }
        }
      ]
    },
    {
      "cell_type": "code",
      "metadata": {
        "id": "Anlo-MED7Mc0",
        "colab_type": "code",
        "colab": {
          "base_uri": "https://localhost:8080/",
          "height": 602
        },
        "outputId": "0cd363de-448c-4af5-fba8-9f80b1d22cc5"
      },
      "source": [
        "Train_Inpatient_1 = pd.merge(Train_Inpatient, Train, how='inner', on='Provider')\n",
        "g = sns.FacetGrid(Train_Inpatient_1, col='PotentialFraud', height=8)\n",
        "g.map(plt.hist, 'InscClaimAmtReimbursed', bins=20, color = 'g')"
      ],
      "execution_count": 52,
      "outputs": [
        {
          "output_type": "execute_result",
          "data": {
            "text/plain": [
              "<seaborn.axisgrid.FacetGrid at 0x7f7bba9d8ba8>"
            ]
          },
          "metadata": {
            "tags": []
          },
          "execution_count": 52
        },
        {
          "output_type": "display_data",
          "data": {
            "image/png": "[encoded data removed]",
            "text/plain": [
              "<Figure size 1152x576 with 2 Axes>"
            ]
          },
          "metadata": {
            "tags": [],
            "needs_background": "light"
          }
        }
      ]
    },
    {
      "cell_type": "markdown",
      "metadata": {
        "id": "R9jrifmn7am-",
        "colab_type": "text"
      },
      "source": [
        "# Total amount suspected for fraud"
      ]
    },
    {
      "cell_type": "code",
      "metadata": {
        "id": "Rg6QUe5Y7eZF",
        "colab_type": "code",
        "colab": {
          "base_uri": "https://localhost:8080/",
          "height": 34
        },
        "outputId": "83d255a3-97bc-465d-823b-5e5929614e52"
      },
      "source": [
        "Train_Inpatient_1 = Train_Inpatient_1.loc[(Train_Inpatient_1['PotentialFraud'] == 'Yes')]\n",
        "Total = Train_Inpatient_1['InscClaimAmtReimbursed'].sum()\n",
        "print('$',Total)"
      ],
      "execution_count": 55,
      "outputs": [
        {
          "output_type": "stream",
          "text": [
            "$ 241288510\n"
          ],
          "name": "stdout"
        }
      ]
    },
    {
      "cell_type": "markdown",
      "metadata": {
        "id": "XM5qiWE2743y",
        "colab_type": "text"
      },
      "source": [
        "# Cost Distribution for OUTPATIENT data"
      ]
    },
    {
      "cell_type": "code",
      "metadata": {
        "id": "VGgdPyKI77Wn",
        "colab_type": "code",
        "colab": {
          "base_uri": "https://localhost:8080/",
          "height": 700
        },
        "outputId": "ca550629-256d-4f66-c059-4adf47c52708"
      },
      "source": [
        "ax = Train_Outpatient['InscClaimAmtReimbursed'].plot.hist(bins=100,range=[0, 5000], alpha=0.5, figsize=(14, 12), facecolor='c', edgecolor='k')"
      ],
      "execution_count": 56,
      "outputs": [
        {
          "output_type": "display_data",
          "data": {
            "image/png": "[encoded data removed]",
            "text/plain": [
              "<Figure size 1008x864 with 1 Axes>"
            ]
          },
          "metadata": {
            "tags": [],
            "needs_background": "light"
          }
        }
      ]
    },
    {
      "cell_type": "code",
      "metadata": {
        "id": "k7yYzvSA8FVb",
        "colab_type": "code",
        "colab": {
          "base_uri": "https://localhost:8080/",
          "height": 602
        },
        "outputId": "06f7ee20-e002-482d-e43b-da11783355d9"
      },
      "source": [
        "Train_Outpatient_1 = pd.merge(Train_Outpatient, Train, how='inner', on='Provider')\n",
        "g = sns.FacetGrid(Train_Outpatient_1, col='PotentialFraud', height=8)\n",
        "g.map(plt.hist, 'InscClaimAmtReimbursed', bins=20, range=[0, 5000], color ='c')"
      ],
      "execution_count": 57,
      "outputs": [
        {
          "output_type": "execute_result",
          "data": {
            "text/plain": [
              "<seaborn.axisgrid.FacetGrid at 0x7f7bbab29cc0>"
            ]
          },
          "metadata": {
            "tags": []
          },
          "execution_count": 57
        },
        {
          "output_type": "display_data",
          "data": {
            "image/png": "[encoded data removed]",
            "text/plain": [
              "<Figure size 1152x576 with 2 Axes>"
            ]
          },
          "metadata": {
            "tags": [],
            "needs_background": "light"
          }
        }
      ]
    }
  ]
}